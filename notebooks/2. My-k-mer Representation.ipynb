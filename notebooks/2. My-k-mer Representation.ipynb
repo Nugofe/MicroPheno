{
 "cells": [
  {
   "cell_type": "markdown",
   "metadata": {},
   "source": [
    "# Creating k-mer representations"
   ]
  },
  {
   "cell_type": "code",
   "execution_count": 1,
   "metadata": {},
   "outputs": [],
   "source": [
    "import sys\n",
    "sys.path.append('../')\n",
    "from make_representations.representation_maker import Metagenomic16SRepresentation, FastaRepresentations\n",
    "from utility.file_utility import FileUtility\n"
   ]
  },
  {
   "cell_type": "markdown",
   "metadata": {},
   "source": [
    "## Example of Crohn's disease - parallel representation creation -- with sub-sampling"
   ]
  },
  {
   "cell_type": "code",
   "execution_count": 2,
   "metadata": {},
   "outputs": [],
   "source": [
    "# LER ARQUIVOS FASTAQ\n",
    "\n",
    "# fasta_files: the fastaq files\n",
    "# mapping: the order in which they've been read/iterated\n",
    "fasta_files, mapping = FileUtility.read_fasta_directory('../../crohns_disease/sra_download/samples_fastq','fastq')"
   ]
  },
  {
   "cell_type": "code",
   "execution_count": null,
   "metadata": {},
   "outputs": [
    {
     "name": "stdout",
     "output_type": "stream",
     "text": [
      "3 -mers with sampling size  20\n"
     ]
    },
    {
     "name": "stderr",
     "output_type": "stream",
     "text": [
      "  0%|          | 2/1359 [00:03<34:43,  1.54s/it]  "
     ]
    }
   ],
   "source": [
    "# ENTRENAMENTO COS MELLORES TAMAÑOS DE K-MER (K) E OS SEUS CORRESPONDENTES TAMAÑOS DE MOSTRA (N) (SEGÚN OS RESULTADOS DE BOOTSTRAPPING)\n",
    "\n",
    "# dictionary of k-mers and their sampling values\n",
    "# 6:[100,1000,2000,5000,10000,-1]  :  k-mer:[sampling values]      (-1 means using all sequences)\n",
    "sampling_dict={3:[20],4:[100],5:[500],6:[100,1000,2000,5000,10000,-1],7:[5000],8:[8000]}\n",
    "\n",
    "# number of cores\n",
    "nump_p=20\n",
    "\n",
    "# Para cada arquivo fastaq, creamos unha representación por cada posible combinación de tamaño de k-mer e tamaño de mostra, e gardamos os resultados\n",
    "for k in sampling_dict.keys():  # for each k-mer\n",
    "    for N in sampling_dict[k]:  # select a sampling size N\n",
    "        print(k,'-mers with sampling size ',N)\n",
    "        \n",
    "        RS=Metagenomic16SRepresentation(fasta_files, mapping, N, nump_p)\n",
    "        RS.generate_kmers_all(k, save='../../crohns_disease/datasets/dataset_'+str(k)+'-mers_rate_complete1359_seq_'+str(N))\n"
   ]
  },
  {
   "cell_type": "markdown",
   "metadata": {},
   "source": [
    "## Oral bacteria (example of how to do it wout subsampling)"
   ]
  },
  {
   "cell_type": "code",
   "execution_count": 2,
   "metadata": {},
   "outputs": [],
   "source": [
    "FastaRep=FastaRepresentations('../../oral_bacteria/oral_bacteria.fasta',label_modifying_func=lambda x:x.split('-')[1] )\n",
    "# FastaRep.labels ==> labels\n",
    "# FastaRep.corpus ==> sequence corpus"
   ]
  },
  {
   "cell_type": "code",
   "execution_count": 5,
   "metadata": {},
   "outputs": [
    {
     "name": "stdout",
     "output_type": "stream",
     "text": [
      "8 -mer creation\n"
     ]
    }
   ],
   "source": [
    "for k in [8]:\n",
    "    print (k,'-mer creation')\n",
    "    vec_pres=FastaRep.get_vector_rep(FastaRep.corpus, k,restricted=True)\n",
    "    FileUtility.save_sparse_csr('../../oral_bacteria/k-mer_representations_labels/'+str(k)+'-mer'+'_oral_bacteria_restrictedmer.npz', vec_pres)\n",
    "    FileUtility.save_list('../../oral_bacteria/k-mer_representations_labels/oral_bacteria_labels.txt',FastaRep.labels)"
   ]
  }
 ],
 "metadata": {
  "kernelspec": {
   "display_name": "Python 3 (ipykernel)",
   "language": "python",
   "name": "python3"
  },
  "language_info": {
   "codemirror_mode": {
    "name": "ipython",
    "version": 3
   },
   "file_extension": ".py",
   "mimetype": "text/x-python",
   "name": "python",
   "nbconvert_exporter": "python",
   "pygments_lexer": "ipython3",
   "version": "3.5.10"
  }
 },
 "nbformat": 4,
 "nbformat_minor": 2
}
