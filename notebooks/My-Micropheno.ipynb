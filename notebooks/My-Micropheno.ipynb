{
 "cells": [
  {
   "cell_type": "code",
   "execution_count": 1,
   "metadata": {},
   "outputs": [
    {
     "name": "stderr",
     "output_type": "stream",
     "text": [
      "Using TensorFlow backend.\n",
      "/home/nuria/.local/share/virtualenvs/MicroPheno-F70P6HaP/lib/python3.5/site-packages/tensorflow/python/framework/dtypes.py:458: FutureWarning: Passing (type, 1) or '1type' as a synonym of type is deprecated; in a future version of numpy, it will be understood as (type, (1,)) / '(1,)type'.\n",
      "  _np_qint8 = np.dtype([(\"qint8\", np.int8, 1)])\n",
      "/home/nuria/.local/share/virtualenvs/MicroPheno-F70P6HaP/lib/python3.5/site-packages/tensorflow/python/framework/dtypes.py:459: FutureWarning: Passing (type, 1) or '1type' as a synonym of type is deprecated; in a future version of numpy, it will be understood as (type, (1,)) / '(1,)type'.\n",
      "  _np_quint8 = np.dtype([(\"quint8\", np.uint8, 1)])\n",
      "/home/nuria/.local/share/virtualenvs/MicroPheno-F70P6HaP/lib/python3.5/site-packages/tensorflow/python/framework/dtypes.py:460: FutureWarning: Passing (type, 1) or '1type' as a synonym of type is deprecated; in a future version of numpy, it will be understood as (type, (1,)) / '(1,)type'.\n",
      "  _np_qint16 = np.dtype([(\"qint16\", np.int16, 1)])\n",
      "/home/nuria/.local/share/virtualenvs/MicroPheno-F70P6HaP/lib/python3.5/site-packages/tensorflow/python/framework/dtypes.py:461: FutureWarning: Passing (type, 1) or '1type' as a synonym of type is deprecated; in a future version of numpy, it will be understood as (type, (1,)) / '(1,)type'.\n",
      "  _np_quint16 = np.dtype([(\"quint16\", np.uint16, 1)])\n",
      "/home/nuria/.local/share/virtualenvs/MicroPheno-F70P6HaP/lib/python3.5/site-packages/tensorflow/python/framework/dtypes.py:462: FutureWarning: Passing (type, 1) or '1type' as a synonym of type is deprecated; in a future version of numpy, it will be understood as (type, (1,)) / '(1,)type'.\n",
      "  _np_qint32 = np.dtype([(\"qint32\", np.int32, 1)])\n",
      "/home/nuria/.local/share/virtualenvs/MicroPheno-F70P6HaP/lib/python3.5/site-packages/tensorflow/python/framework/dtypes.py:465: FutureWarning: Passing (type, 1) or '1type' as a synonym of type is deprecated; in a future version of numpy, it will be understood as (type, (1,)) / '(1,)type'.\n",
      "  np_resource = np.dtype([(\"resource\", np.ubyte, 1)])\n"
     ]
    }
   ],
   "source": [
    "import sys\n",
    "sys.path.append('../')\n",
    "from utility.file_utility import FileUtility\n",
    "from classifier.classical_classifiers import RFClassifier,SVM\n",
    "from classifier.MLP import MLPMutliclass16S\n",
    "import pandas as pd"
   ]
  },
  {
   "cell_type": "markdown",
   "metadata": {},
   "source": [
    "# Crohn's Disease"
   ]
  },
  {
   "cell_type": "markdown",
   "metadata": {},
   "source": [
    "### 3. Classifers"
   ]
  },
  {
   "cell_type": "code",
   "execution_count": 2,
   "metadata": {},
   "outputs": [],
   "source": [
    "# labels\n",
    "labels=['Not-CD', 'CD'] # clase negativa, clase positiva"
   ]
  },
  {
   "cell_type": "markdown",
   "metadata": {},
   "source": [
    "#### Classical Classifiers"
   ]
  },
  {
   "cell_type": "code",
   "execution_count": 3,
   "metadata": {},
   "outputs": [],
   "source": [
    "# CARGAR O ARQUIVO DE REPRESENTACIÓN K-MERS QUE MELLORES RESULTADOS DESE E OS RESULTADOS DE CLASIFICACIÓN REAIS\n",
    "\n",
    "# X = matriz con datos:  (nº mostra, nº k-mers da secuencia) Abundancia relativa do k-mer na secuencia\n",
    "#     en total temos 1359 mostras e 4096 6-mers\n",
    "# Y = lista de resultados reais:  (CD = 1 , not CD = 0)\n",
    "X=FileUtility.load_sparse_csr('../../crohns_disease/datasets/dataset_6-mers_rate_complete1359_seq_5000.npz')\n",
    "#X=FileUtility.load_sparse_csr('../../crohns_disease/datasets/PRUEBA-dataset_6-mers_rate_complete1359_seq_5000.npz')\n",
    "Y=FileUtility.load_list('../../crohns_disease/datasets/labels_disease_complete1359.txt')\n",
    "#Y=FileUtility.load_list('../../crohns_disease/datasets/PRUEBA-labels_disease_complete1359.txt')\n",
    "\n",
    "# vemos os datos de X\n",
    "#dataset=pd.read_csv(\"../../crohns_disease/datasets/PRUEBA-dataset_6-mers_rate_complete1359_seq_5000.csv\")\n",
    "#dataset"
   ]
  },
  {
   "cell_type": "code",
   "execution_count": null,
   "metadata": {},
   "outputs": [],
   "source": [
    "# CREAR E ENTRENAR OS CLASIFICADORES E GARDAR OS RESULTADOS \n",
    "##### (results containing the best parameter, confusion matrix, best estimator)\n",
    "\n",
    "################ Random Forest ################\n",
    "MRF = RFClassifier(X, Y, labels)\n",
    "MRF.tune_and_eval('../../crohns_disease/results/RFclassifier', n_fold=10, n_jobs=None)\n",
    "#MRF.tune_and_eval('../../crohns_disease/results/RFclassifier-PRUEBA', n_fold=2, n_jobs=6)"
   ]
  },
  {
   "cell_type": "code",
   "execution_count": null,
   "metadata": {},
   "outputs": [],
   "source": [
    "################ Support Vector Machine ################\n",
    "MSVM = SVM(X, Y, labels)\n",
    "MSVM.tune_and_eval('../../crohns_disease/results/SVMclassifier', n_fold=10, n_jobs=None)\n",
    "#MSVM.tune_and_eval('../../crohns_disease/results/SVMclassifier-PRUEBA', n_fold=2, n_jobs=6)"
   ]
  },
  {
   "cell_type": "markdown",
   "metadata": {},
   "source": [
    "#### DNN Classifier"
   ]
  },
  {
   "cell_type": "code",
   "execution_count": 3,
   "metadata": {},
   "outputs": [],
   "source": [
    "# CARGAR O ARQUIVO DE REPRESENTACIÓN K-MERS QUE MELLORES RESULTADOS DESE E OS RESULTADOS DE CLASIFICACIÓN REAIS\n",
    "\n",
    "#X=FileUtility.load_sparse_csr('../../crohns_disease/datasets/dataset_6-mers_rate_complete1359_seq_5000.npz').toarray()\n",
    "X=FileUtility.load_sparse_csr('../../crohns_disease/datasets/PRUEBA-dataset_6-mers_rate_complete1359_seq_5000.npz').toarray()\n",
    "#Y=FileUtility.load_list('../../crohns_disease/datasets/labels_disease_complete1359.txt')\n",
    "Y=FileUtility.load_list('../../crohns_disease/datasets/PRUEBA-labels_disease_complete1359.txt')"
   ]
  },
  {
   "cell_type": "code",
   "execution_count": null,
   "metadata": {},
   "outputs": [],
   "source": [
    "# CREAR E ENTRENAR OS CLASIFICADORES E GARDAR OS RESULTADOS\n",
    "\n",
    "################ Multilayer Perceptron  ################\n",
    "MLP=MLPMutliclass16S(X, Y, labels, model_strct='mlp', model_arch=[1024,0.2,512,0.2,256,0.1,128,8])\n",
    "MLP.tune_and_eval('../../crohns_disease/results/MLPclassifier', gpu_dev='1', n_fold=10, epochs=100, batch_size=1000)\n",
    "#MLP.tune_and_eval('../../crohns_disease/results/MLPclassifier-PRUEBA', gpu_dev='1', n_fold=2, epochs=1, batch_size=6)"
   ]
  },
  {
   "cell_type": "code",
   "execution_count": null,
   "metadata": {},
   "outputs": [],
   "source": [
    "#DNN.make_weights('../../crohns_disease/results/MLPclassifier', epochs=100, batch_size=1000, f1mac=0.68)"
   ]
  },
  {
   "cell_type": "code",
   "execution_count": null,
   "metadata": {},
   "outputs": [],
   "source": [
    "#X_new=DNNMutliclass16S.make_activation_function(X, '../../crohns_disease/results-PRUEBA/DNNclassifier/weights_layers_mlp_1024-0.2-512-0.2-256-0.1-128-8_0.37.pickle')\n",
    "#X_new=DNN.make_activation_function()\n",
    "#X_new"
   ]
  },
  {
   "cell_type": "markdown",
   "metadata": {},
   "source": [
    "### Métricas obtidas (as resumidas están nos .txt)"
   ]
  },
  {
   "cell_type": "code",
   "execution_count": 7,
   "metadata": {},
   "outputs": [
    {
     "data": {
      "text/html": [
       "<div>\n",
       "<style scoped>\n",
       "    .dataframe tbody tr th:only-of-type {\n",
       "        vertical-align: middle;\n",
       "    }\n",
       "\n",
       "    .dataframe tbody tr th {\n",
       "        vertical-align: top;\n",
       "    }\n",
       "\n",
       "    .dataframe thead th {\n",
       "        text-align: right;\n",
       "    }\n",
       "</style>\n",
       "<table border=\"1\" class=\"dataframe\">\n",
       "  <thead>\n",
       "    <tr style=\"text-align: right;\">\n",
       "      <th></th>\n",
       "      <th>Unnamed: 0</th>\n",
       "      <th>mean_fit_time</th>\n",
       "      <th>mean_score_time</th>\n",
       "      <th>mean_test_accuracy</th>\n",
       "      <th>mean_test_f1_macro</th>\n",
       "      <th>mean_test_f1_micro</th>\n",
       "      <th>mean_test_precision_macro</th>\n",
       "      <th>mean_test_precision_micro</th>\n",
       "      <th>mean_test_recall_macro</th>\n",
       "      <th>mean_test_recall_micro</th>\n",
       "      <th>...</th>\n",
       "      <th>std_fit_time</th>\n",
       "      <th>std_score_time</th>\n",
       "      <th>std_test_accuracy</th>\n",
       "      <th>std_test_f1_macro</th>\n",
       "      <th>std_test_f1_micro</th>\n",
       "      <th>std_test_precision_macro</th>\n",
       "      <th>std_test_precision_micro</th>\n",
       "      <th>std_test_recall_macro</th>\n",
       "      <th>std_test_recall_micro</th>\n",
       "      <th>std_test_roc_auc</th>\n",
       "    </tr>\n",
       "  </thead>\n",
       "  <tbody>\n",
       "    <tr>\n",
       "      <th>0</th>\n",
       "      <td>0</td>\n",
       "      <td>0.235233</td>\n",
       "      <td>0.064697</td>\n",
       "      <td>0.416667</td>\n",
       "      <td>0.291667</td>\n",
       "      <td>0.416667</td>\n",
       "      <td>0.208333</td>\n",
       "      <td>0.416667</td>\n",
       "      <td>0.5000</td>\n",
       "      <td>0.416667</td>\n",
       "      <td>...</td>\n",
       "      <td>0.010480</td>\n",
       "      <td>0.003476</td>\n",
       "      <td>0.083333</td>\n",
       "      <td>0.041667</td>\n",
       "      <td>0.083333</td>\n",
       "      <td>0.041667</td>\n",
       "      <td>0.083333</td>\n",
       "      <td>0.0000</td>\n",
       "      <td>0.083333</td>\n",
       "      <td>0.111111</td>\n",
       "    </tr>\n",
       "    <tr>\n",
       "      <th>1</th>\n",
       "      <td>1</td>\n",
       "      <td>0.470102</td>\n",
       "      <td>0.076385</td>\n",
       "      <td>0.583333</td>\n",
       "      <td>0.366667</td>\n",
       "      <td>0.583333</td>\n",
       "      <td>0.291667</td>\n",
       "      <td>0.583333</td>\n",
       "      <td>0.5000</td>\n",
       "      <td>0.583333</td>\n",
       "      <td>...</td>\n",
       "      <td>0.002234</td>\n",
       "      <td>0.011600</td>\n",
       "      <td>0.083333</td>\n",
       "      <td>0.033333</td>\n",
       "      <td>0.083333</td>\n",
       "      <td>0.041667</td>\n",
       "      <td>0.083333</td>\n",
       "      <td>0.0000</td>\n",
       "      <td>0.083333</td>\n",
       "      <td>0.006944</td>\n",
       "    </tr>\n",
       "    <tr>\n",
       "      <th>2</th>\n",
       "      <td>2</td>\n",
       "      <td>0.905101</td>\n",
       "      <td>0.132596</td>\n",
       "      <td>0.500000</td>\n",
       "      <td>0.409524</td>\n",
       "      <td>0.500000</td>\n",
       "      <td>0.475000</td>\n",
       "      <td>0.500000</td>\n",
       "      <td>0.5625</td>\n",
       "      <td>0.500000</td>\n",
       "      <td>...</td>\n",
       "      <td>0.018431</td>\n",
       "      <td>0.002237</td>\n",
       "      <td>0.000000</td>\n",
       "      <td>0.076190</td>\n",
       "      <td>0.000000</td>\n",
       "      <td>0.225000</td>\n",
       "      <td>0.000000</td>\n",
       "      <td>0.0625</td>\n",
       "      <td>0.000000</td>\n",
       "      <td>0.069444</td>\n",
       "    </tr>\n",
       "    <tr>\n",
       "      <th>3</th>\n",
       "      <td>3</td>\n",
       "      <td>1.469814</td>\n",
       "      <td>0.219519</td>\n",
       "      <td>0.583333</td>\n",
       "      <td>0.500000</td>\n",
       "      <td>0.583333</td>\n",
       "      <td>0.500000</td>\n",
       "      <td>0.583333</td>\n",
       "      <td>0.6250</td>\n",
       "      <td>0.583333</td>\n",
       "      <td>...</td>\n",
       "      <td>0.009872</td>\n",
       "      <td>0.000364</td>\n",
       "      <td>0.083333</td>\n",
       "      <td>0.166667</td>\n",
       "      <td>0.083333</td>\n",
       "      <td>0.250000</td>\n",
       "      <td>0.083333</td>\n",
       "      <td>0.1250</td>\n",
       "      <td>0.083333</td>\n",
       "      <td>0.159722</td>\n",
       "    </tr>\n",
       "  </tbody>\n",
       "</table>\n",
       "<p>4 rows × 51 columns</p>\n",
       "</div>"
      ],
      "text/plain": [
       "   Unnamed: 0  mean_fit_time  mean_score_time  mean_test_accuracy  \\\n",
       "0           0       0.235233         0.064697            0.416667   \n",
       "1           1       0.470102         0.076385            0.583333   \n",
       "2           2       0.905101         0.132596            0.500000   \n",
       "3           3       1.469814         0.219519            0.583333   \n",
       "\n",
       "   mean_test_f1_macro  mean_test_f1_micro  mean_test_precision_macro  \\\n",
       "0            0.291667            0.416667                   0.208333   \n",
       "1            0.366667            0.583333                   0.291667   \n",
       "2            0.409524            0.500000                   0.475000   \n",
       "3            0.500000            0.583333                   0.500000   \n",
       "\n",
       "   mean_test_precision_micro  mean_test_recall_macro  mean_test_recall_micro  \\\n",
       "0                   0.416667                  0.5000                0.416667   \n",
       "1                   0.583333                  0.5000                0.583333   \n",
       "2                   0.500000                  0.5625                0.500000   \n",
       "3                   0.583333                  0.6250                0.583333   \n",
       "\n",
       "   ...  std_fit_time std_score_time std_test_accuracy  std_test_f1_macro  \\\n",
       "0  ...      0.010480       0.003476          0.083333           0.041667   \n",
       "1  ...      0.002234       0.011600          0.083333           0.033333   \n",
       "2  ...      0.018431       0.002237          0.000000           0.076190   \n",
       "3  ...      0.009872       0.000364          0.083333           0.166667   \n",
       "\n",
       "   std_test_f1_micro  std_test_precision_macro std_test_precision_micro  \\\n",
       "0           0.083333                  0.041667                 0.083333   \n",
       "1           0.083333                  0.041667                 0.083333   \n",
       "2           0.000000                  0.225000                 0.000000   \n",
       "3           0.083333                  0.250000                 0.083333   \n",
       "\n",
       "   std_test_recall_macro  std_test_recall_micro  std_test_roc_auc  \n",
       "0                 0.0000               0.083333          0.111111  \n",
       "1                 0.0000               0.083333          0.006944  \n",
       "2                 0.0625               0.000000          0.069444  \n",
       "3                 0.1250               0.083333          0.159722  \n",
       "\n",
       "[4 rows x 51 columns]"
      ]
     },
     "execution_count": 7,
     "metadata": {},
     "output_type": "execute_result"
    }
   ],
   "source": [
    "metrics=pd.read_csv(\"../../crohns_disease/results/RFclassifier/all_metrics.csv\") # RF\n",
    "#metrics=pd.read_csv(\"../../crohns_disease/results/SVMclassifier/all_metrics.csv\") # SVM\n",
    "metrics"
   ]
  },
  {
   "cell_type": "markdown",
   "metadata": {},
   "source": [
    "### Matrices de confusión"
   ]
  },
  {
   "cell_type": "code",
   "execution_count": 5,
   "metadata": {},
   "outputs": [
    {
     "name": "stdout",
     "output_type": "stream",
     "text": [
      "Populating the interactive namespace from numpy and matplotlib\n"
     ]
    }
   ],
   "source": [
    "import matplotlib.pyplot as plt\n",
    "%pylab inline\n",
    "%matplotlib inline \n",
    "from utility.visualization_utility import create_mat_plot"
   ]
  },
  {
   "cell_type": "code",
   "execution_count": 9,
   "metadata": {},
   "outputs": [
    {
     "data": {
      "image/png": "[encoded data removed]",
      "text/plain": [
       "<Figure size 432x288 with 2 Axes>"
      ]
     },
     "metadata": {},
     "output_type": "display_data"
    },
    {
     "data": {
      "text/plain": [
       "<Figure size 432x288 with 0 Axes>"
      ]
     },
     "metadata": {},
     "output_type": "display_data"
    }
   ],
   "source": [
    "################ Random Forest ################\n",
    "# load the results\n",
    "[label_set, conf, best_score_, best_estimator_, cv_results_, best_params_, predictions]=FileUtility.load_obj('../../crohns_disease/results/RFclassifier/all_results.pickle')\n",
    "\n",
    "# create the plot (Confusion matrix) and save it in a pdf\n",
    "create_mat_plot(conf, label_set, '', '../../crohns_disease/results/RFclassifier/confusion_matrix', 'Predicted labels' ,'Actual labels', cmap='Purples', filetype='pdf',font_s=8)"
   ]
  },
  {
   "cell_type": "code",
   "execution_count": 10,
   "metadata": {},
   "outputs": [
    {
     "data": {
      "image/png": "[encoded data removed]",
      "text/plain": [
       "<Figure size 432x288 with 2 Axes>"
      ]
     },
     "metadata": {},
     "output_type": "display_data"
    },
    {
     "data": {
      "text/plain": [
       "<Figure size 432x288 with 0 Axes>"
      ]
     },
     "metadata": {},
     "output_type": "display_data"
    }
   ],
   "source": [
    "################ Support Vector Machine ################\n",
    "[label_set, conf, best_score_, best_estimator_,cv_results_, best_params_, predictions]=FileUtility.load_obj('../../crohns_disease/results/SVMclassifier/all_results.pickle')\n",
    "create_mat_plot(conf, label_set, '', '../../crohns_disease/results/SVMclassifier/confusion_matrix', 'Predicted labels' ,'Actual labels', cmap='Purples', filetype='pdf', rx=80, ry=0, font_s=8)"
   ]
  },
  {
   "cell_type": "code",
   "execution_count": 7,
   "metadata": {},
   "outputs": [
    {
     "data": {
      "image/png": "[encoded data removed]",
      "text/plain": [
       "<Figure size 432x288 with 2 Axes>"
      ]
     },
     "metadata": {},
     "output_type": "display_data"
    },
    {
     "data": {
      "text/plain": [
       "<Figure size 432x288 with 0 Axes>"
      ]
     },
     "metadata": {},
     "output_type": "display_data"
    }
   ],
   "source": [
    "################ Multilayer Perceptron ################\n",
    "[label_set, conf, p_micro, r_micro, f1_micro, p_macro, r_macro, f1_macro, accuracy, roc_auc, (loss_values, val_loss_values, epochs)]=FileUtility.load_obj('../../crohns_disease/results/MLPclassifier/results_mlp_1024-0.2-512-0.2-256-0.1-128-8_0.7.pickle')\n",
    "create_mat_plot(conf, label_set, '', '../../crohns_disease/results/MLPclassifier/confusion_matrix', 'Predicted labels' ,'Actual labels', cmap='Purples', filetype='pdf', rx=80, ry=0, font_s=8)"
   ]
  }
 ],
 "metadata": {
  "interpreter": {
   "hash": "81794d4967e6c3204c66dcd87b604927b115b27c00565d3d43f05ba2f3a2cb0d"
  },
  "kernelspec": {
   "display_name": "Python 3 (ipykernel)",
   "language": "python",
   "name": "python3"
  },
  "language_info": {
   "codemirror_mode": {
    "name": "ipython",
    "version": 3
   },
   "file_extension": ".py",
   "mimetype": "text/x-python",
   "name": "python",
   "nbconvert_exporter": "python",
   "pygments_lexer": "ipython3",
   "version": "3.9.4"
  }
 },
 "nbformat": 4,
 "nbformat_minor": 2
}
