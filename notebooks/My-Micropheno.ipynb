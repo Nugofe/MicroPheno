{
 "cells": [
  {
   "cell_type": "code",
   "execution_count": 1,
   "metadata": {},
   "outputs": [
    {
     "name": "stderr",
     "output_type": "stream",
     "text": [
      "Using TensorFlow backend.\n",
      "/home/nuria/.local/share/virtualenvs/MicroPheno-F70P6HaP/lib/python3.5/site-packages/tensorflow/python/framework/dtypes.py:458: FutureWarning: Passing (type, 1) or '1type' as a synonym of type is deprecated; in a future version of numpy, it will be understood as (type, (1,)) / '(1,)type'.\n",
      "  _np_qint8 = np.dtype([(\"qint8\", np.int8, 1)])\n",
      "/home/nuria/.local/share/virtualenvs/MicroPheno-F70P6HaP/lib/python3.5/site-packages/tensorflow/python/framework/dtypes.py:459: FutureWarning: Passing (type, 1) or '1type' as a synonym of type is deprecated; in a future version of numpy, it will be understood as (type, (1,)) / '(1,)type'.\n",
      "  _np_quint8 = np.dtype([(\"quint8\", np.uint8, 1)])\n",
      "/home/nuria/.local/share/virtualenvs/MicroPheno-F70P6HaP/lib/python3.5/site-packages/tensorflow/python/framework/dtypes.py:460: FutureWarning: Passing (type, 1) or '1type' as a synonym of type is deprecated; in a future version of numpy, it will be understood as (type, (1,)) / '(1,)type'.\n",
      "  _np_qint16 = np.dtype([(\"qint16\", np.int16, 1)])\n",
      "/home/nuria/.local/share/virtualenvs/MicroPheno-F70P6HaP/lib/python3.5/site-packages/tensorflow/python/framework/dtypes.py:461: FutureWarning: Passing (type, 1) or '1type' as a synonym of type is deprecated; in a future version of numpy, it will be understood as (type, (1,)) / '(1,)type'.\n",
      "  _np_quint16 = np.dtype([(\"quint16\", np.uint16, 1)])\n",
      "/home/nuria/.local/share/virtualenvs/MicroPheno-F70P6HaP/lib/python3.5/site-packages/tensorflow/python/framework/dtypes.py:462: FutureWarning: Passing (type, 1) or '1type' as a synonym of type is deprecated; in a future version of numpy, it will be understood as (type, (1,)) / '(1,)type'.\n",
      "  _np_qint32 = np.dtype([(\"qint32\", np.int32, 1)])\n",
      "/home/nuria/.local/share/virtualenvs/MicroPheno-F70P6HaP/lib/python3.5/site-packages/tensorflow/python/framework/dtypes.py:465: FutureWarning: Passing (type, 1) or '1type' as a synonym of type is deprecated; in a future version of numpy, it will be understood as (type, (1,)) / '(1,)type'.\n",
      "  np_resource = np.dtype([(\"resource\", np.ubyte, 1)])\n"
     ]
    }
   ],
   "source": [
    "import sys\n",
    "sys.path.append('../')\n",
    "from utility.file_utility import FileUtility\n",
    "from bootstrapping.bootstrapping import BootStrapping\n",
    "from make_representations.representation_maker import Metagenomic16SRepresentation\n",
    "from classifier.classical_classifiers import RFClassifier,SVM\n",
    "from classifier.DNN import DNNMutliclass16S\n",
    "import pandas as pd"
   ]
  },
  {
   "cell_type": "markdown",
   "metadata": {},
   "source": [
    "# Crohn's Disease"
   ]
  },
  {
   "cell_type": "markdown",
   "metadata": {},
   "source": [
    "### Ler fastaq"
   ]
  },
  {
   "cell_type": "code",
   "execution_count": 2,
   "metadata": {},
   "outputs": [],
   "source": [
    "# LER OS FASTAQ\n",
    "\n",
    "# fasta_files: arquivos fastaq\n",
    "# mapping: orde na que foron lidos/iterados\n",
    "fasta_files, mapping = FileUtility.read_fasta_directory('../../crohns_disease/samples_fastq/', 'fastq')\n",
    "#fasta_files, mapping = FileUtility.read_fasta_directory('../../crohns_disease/samples_fastq/', 'fastq', \n",
    "#                only_files=[\"ERR1368879.fastq\", \"ERR1368880.fastq\", \"ERR1368881.fastq\", \n",
    "#                            \"ERR1368882.fastq\", \"ERR1368883.fastq\", \"ERR1368884.fastq\",\n",
    "#                            \"ERR1368885.fastq\", \"ERR1368886.fastq\", \"ERR1368887.fastq\",\n",
    "#                            \"ERR1368888.fastq\", \"ERR1368889.fastq\", \"ERR1368890.fastq\"])"
   ]
  },
  {
   "cell_type": "markdown",
   "metadata": {},
   "source": [
    "### 1. Bootstrapping"
   ]
  },
  {
   "cell_type": "code",
   "execution_count": 9,
   "metadata": {},
   "outputs": [],
   "source": [
    "# CONSTRUIR OBXECTO PARA O BOOTSTRAPPING\n",
    "'''\n",
    "input_dir: input directory or a list of files\n",
    "output_dir: a directory to generate the output files\n",
    "sampling_sizes: a list of sampling sizes (N's)\n",
    "n_resamples: number of resamples from each file (N_R = 10)\n",
    "seqtype: file suffixes fastq or fasta etc.\n",
    "M: number of files from the directory to make samplings from (M)\n",
    "'''\n",
    "\n",
    "BS=BootStrapping(fasta_files,'../../crohns_disease/results/bootstrapping/', seqtype='fastq',\n",
    "                 sampling_sizes=[10, 20, 50, 100, 200, 500, 1000, 2000, 5000, 10000], n_resamples=10, M=10)"
   ]
  },
  {
   "cell_type": "code",
   "execution_count": null,
   "metadata": {},
   "outputs": [],
   "source": [
    "# add k-mer samplings\n",
    "for k in [3,4,5,6,7,8]:\n",
    "    print(k,'-mer bootstrapping..')\n",
    "    BS.add_kmer_sampling(k)"
   ]
  },
  {
   "cell_type": "code",
   "execution_count": 19,
   "metadata": {},
   "outputs": [],
   "source": [
    "# GARDAR RESULTADOS EN ARQUIVO 'bootstrapping_crohns_disease_prediction' NA RUTA QUE SE LLE INDICOU AO DEFINIR A INSTANCIA BS\n",
    "BS.save_me('bootstrapping_crohns_disease_prediction')"
   ]
  },
  {
   "cell_type": "markdown",
   "metadata": {},
   "source": [
    "### 2. k-mer representations"
   ]
  },
  {
   "cell_type": "code",
   "execution_count": null,
   "metadata": {},
   "outputs": [],
   "source": [
    "# ENTRENAMENTO COS MELLORES TAMAÑOS DE K-MER (K) E OS SEUS CORRESPONDENTES TAMAÑOS DE MOSTRA (N) \n",
    "# (SEGÚN OS RESULTADOS DE BOOTSTRAPPING)\n",
    "\n",
    "# dictionary of k-mers and their sampling values\n",
    "# 6:[100,1000,2000,5000,10000,-1]  :  k-mer:[sampling values]      (-1 means using all sequences)\n",
    "sampling_dict={3:[20],4:[100],5:[500],6:[100,1000,2000,5000,10000,-1],7:[5000],8:[8000]}\n",
    "#sampling_dict={6:[5000]}\n",
    "\n",
    "# number of cores\n",
    "nump_p=20\n",
    "\n",
    "# Para cada arquivo fastaq, creamos unha representación por cada posible combinación de tamaño de k-mer e tamaño de mostra, e gardamos os resultados\n",
    "for k in sampling_dict.keys():  # for each k-mer\n",
    "    for N in sampling_dict[k]:  # select a sampling size N\n",
    "        print(k,'-mers with sampling size ',N)\n",
    "        \n",
    "        RS=Metagenomic16SRepresentation(fasta_files, mapping, N, nump_p)\n",
    "        RS.generate_kmers_all(k, save='../../crohns_disease/datasets/dataset_'+str(k)+'-mers_rate_complete1359_seq_'+str(N))\n",
    "        #RS.generate_kmers_all(k, save='../../crohns_disease/datasets/PRUEBA-dataset_'+str(k)+'-mers_rate_complete1359_seq_'+str(N))"
   ]
  },
  {
   "cell_type": "markdown",
   "metadata": {},
   "source": [
    "### 3. Classifers"
   ]
  },
  {
   "cell_type": "markdown",
   "metadata": {},
   "source": [
    "#### Classical Classifiers"
   ]
  },
  {
   "cell_type": "code",
   "execution_count": 3,
   "metadata": {},
   "outputs": [],
   "source": [
    "# CARGAR O ARQUIVO DE REPRESENTACIÓN K-MERS QUE MELLORES RESULTADOS DESE E OS RESULTADOS DE CLASIFICACIÓN REAIS\n",
    "\n",
    "# X = matriz con datos:  (nº mostra, nº k-mers da secuencia) Abundancia relativa do k-mer na secuencia\n",
    "#     en total temos 1359 mostras e 4096 6-mers\n",
    "# Y = lista de resultados reais:  (CD , not CD)\n",
    "X=FileUtility.load_sparse_csr('../../crohns_disease/datasets/dataset_6-mers_rate_complete1359_seq_5000.npz')\n",
    "#X=FileUtility.load_sparse_csr('../../crohns_disease/datasets/PRUEBA-dataset_6-mers_rate_complete1359_seq_5000.npz')\n",
    "Y=FileUtility.load_list('../../crohns_disease/datasets/labels_disease_complete1359.txt')\n",
    "#Y=FileUtility.load_list('../../crohns_disease/datasets/PRUEBA-labels_disease_complete1359.txt')\n",
    "\n",
    "# vemos os datos de X\n",
    "#dataset=pd.read_csv(\"../../crohns_disease/datasets/PRUEBA-dataset_6-mers_rate_complete1359_seq_5000.csv\")\n",
    "#dataset"
   ]
  },
  {
   "cell_type": "code",
   "execution_count": 5,
   "metadata": {},
   "outputs": [
    {
     "name": "stdout",
     "output_type": "stream",
     "text": [
      "[['Not-CD', 'CD'], array([[388, 240],\n",
      "       [152, 579]]), 0.7490468409586057, RandomForestClassifier(bootstrap=True, ccp_alpha=0.0, class_weight=None,\n",
      "                       criterion='entropy', max_depth=None, max_features='sqrt',\n",
      "                       max_leaf_nodes=None, max_samples=None,\n",
      "                       min_impurity_decrease=0.0, min_impurity_split=None,\n",
      "                       min_samples_leaf=1, min_samples_split=5,\n",
      "                       min_weight_fraction_leaf=0.0, n_estimators=1000,\n",
      "                       n_jobs=None, oob_score=False, random_state=None,\n",
      "                       verbose=0, warm_start=False), {'mean_test_f1_macro': array([0.72783733, 0.73839755, 0.73780639, 0.74388923]), 'std_score_time': array([0.04678118, 0.11887709, 0.09690947, 0.35742904]), 'param_criterion': masked_array(data=['entropy', 'entropy', 'entropy', 'entropy'],\n",
      "             mask=[False, False, False, False],\n",
      "       fill_value='?',\n",
      "            dtype=object), 'split1_test_f1_macro': array([0.69116588, 0.66931919, 0.70623096, 0.68786885]), 'split4_test_f1_micro': array([0.70588235, 0.72058824, 0.73529412, 0.75735294]), 'std_test_f1_macro': array([0.03578031, 0.03890339, 0.03324308, 0.03250884]), 'split0_test_f1_micro': array([0.70588235, 0.72058824, 0.74264706, 0.75      ]), 'split5_test_recall_macro': array([0.71689498, 0.74211785, 0.7136334 , 0.72624484]), 'split0_test_precision_micro': array([0.70588235, 0.72058824, 0.74264706, 0.75      ]), 'rank_test_roc_auc': array([4, 3, 2, 1], dtype=int32), 'mean_test_precision_macro': array([0.73503454, 0.74802572, 0.74615852, 0.75309308]), 'split5_test_roc_auc': array([0.80691455, 0.82170037, 0.8116982 , 0.82757121]), 'split1_test_accuracy': array([0.69852941, 0.67647059, 0.71323529, 0.69117647]), 'std_fit_time': array([0.61683639, 0.48934622, 1.38268072, 2.8872875 ]), 'rank_test_precision_micro': array([4, 2, 3, 1], dtype=int32), 'split8_test_precision_macro': array([0.74548329, 0.76327839, 0.77619693, 0.79790698]), 'split1_test_precision_macro': array([0.70100733, 0.67697204, 0.71657509, 0.6896324 ]), 'split0_test_roc_auc': array([0.7896687 , 0.79904098, 0.82083697, 0.80514385]), 'split6_test_recall_macro': array([0.71722114, 0.73994347, 0.73200696, 0.72515764]), 'std_test_recall_macro': array([0.03550857, 0.03867454, 0.03321801, 0.03234636]), 'split8_test_f1_macro': array([0.73752412, 0.7514262 , 0.76752137, 0.78048645]), 'split8_test_recall_macro': array([0.73635573, 0.75005436, 0.76592738, 0.77853881]), 'split5_test_precision_macro': array([0.71956857, 0.75686275, 0.72334622, 0.74407694]), 'split7_test_accuracy': array([0.79411765, 0.80147059, 0.80882353, 0.79411765]), 'split5_test_f1_macro': array([0.71759563, 0.74328226, 0.71441202, 0.72678571]), 'mean_test_recall_micro': array([0.73285948, 0.74389434, 0.74315359, 0.74904684]), 'split6_test_f1_micro': array([0.72794118, 0.75      , 0.74264706, 0.73529412]), 'split6_test_recall_micro': array([0.72794118, 0.75      , 0.74264706, 0.73529412]), 'mean_test_recall_macro': array([0.72715091, 0.73750229, 0.73701628, 0.74306493]), 'split1_test_recall_micro': array([0.69852941, 0.67647059, 0.71323529, 0.69117647]), 'split0_test_recall_macro': array([0.70095902, 0.71447254, 0.73605057, 0.74411508]), 'std_test_recall_micro': array([0.03477978, 0.03816799, 0.03166079, 0.03175205]), 'split7_test_f1_micro': array([0.79411765, 0.80147059, 0.80882353, 0.79411765]), 'mean_test_roc_auc': array([0.81633685, 0.81777348, 0.8209526 , 0.82314076]), 'split2_test_precision_micro': array([0.75735294, 0.78676471, 0.76470588, 0.76470588]), 'split4_test_precision_macro': array([0.70788816, 0.71956857, 0.7369248 , 0.75892857]), 'split9_test_accuracy': array([0.68888889, 0.6962963 , 0.68888889, 0.7037037 ]), 'split0_test_f1_macro': array([0.70175439, 0.71560643, 0.73752412, 0.74554259]), 'rank_test_f1_macro': array([4, 2, 3, 1], dtype=int32), 'split2_test_recall_macro': array([0.75440313, 0.78506197, 0.76342683, 0.76451402]), 'mean_test_f1_micro': array([0.73285948, 0.74389434, 0.74315359, 0.74904684]), 'split2_test_f1_micro': array([0.75735294, 0.78676471, 0.76470588, 0.76470588]), 'split9_test_recall_micro': array([0.68888889, 0.6962963 , 0.68888889, 0.7037037 ]), 'split4_test_accuracy': array([0.70588235, 0.72058824, 0.73529412, 0.75735294]), 'split3_test_precision_macro': array([0.79441392, 0.79631843, 0.74771062, 0.78209302]), 'split9_test_recall_macro': array([0.68437914, 0.69001326, 0.68194874, 0.69686257]), 'split7_test_precision_micro': array([0.79411765, 0.80147059, 0.80882353, 0.79411765]), 'param_min_samples_split': masked_array(data=[5, 5, 5, 5],\n",
      "             mask=[False, False, False, False],\n",
      "       fill_value='?',\n",
      "            dtype=object), 'split6_test_precision_micro': array([0.72794118, 0.75      , 0.74264706, 0.73529412]), 'param_min_samples_leaf': masked_array(data=[1, 1, 1, 1],\n",
      "             mask=[False, False, False, False],\n",
      "       fill_value='?',\n",
      "            dtype=object), 'mean_test_accuracy': array([0.73285948, 0.74389434, 0.74315359, 0.74904684]), 'split6_test_precision_macro': array([0.74130435, 0.76380588, 0.75772947, 0.74754961]), 'split5_test_accuracy': array([0.72058824, 0.75      , 0.72058824, 0.73529412]), 'split4_test_precision_micro': array([0.70588235, 0.72058824, 0.73529412, 0.75735294]), 'split8_test_roc_auc': array([0.85235921, 0.8421396 , 0.84453142, 0.85192433]), 'split8_test_precision_micro': array([0.74264706, 0.75735294, 0.77205882, 0.78676471]), 'split3_test_f1_micro': array([0.78676471, 0.77941176, 0.74264706, 0.77205882]), 'split4_test_roc_auc': array([0.7711459 , 0.7773429 , 0.77886497, 0.79299848]), 'mean_test_precision_micro': array([0.73285948, 0.74389434, 0.74315359, 0.74904684]), 'split0_test_recall_micro': array([0.70588235, 0.72058824, 0.74264706, 0.75      ]), 'rank_test_recall_micro': array([4, 2, 3, 1], dtype=int32), 'split1_test_f1_micro': array([0.69852941, 0.67647059, 0.71323529, 0.69117647]), 'rank_test_recall_macro': array([4, 2, 3, 1], dtype=int32), 'mean_fit_time': array([ 16.86909223,  31.93904357,  84.16998775, 174.78014817]), 'split9_test_f1_macro': array([0.685     , 0.6907994 , 0.68260188, 0.69771608]), 'split1_test_precision_micro': array([0.69852941, 0.67647059, 0.71323529, 0.69117647]), 'std_test_accuracy': array([0.03477978, 0.03816799, 0.03166079, 0.03175205]), 'split4_test_recall_micro': array([0.70588235, 0.72058824, 0.73529412, 0.75735294]), 'rank_test_precision_macro': array([4, 2, 3, 1], dtype=int32), 'split2_test_accuracy': array([0.75735294, 0.78676471, 0.76470588, 0.76470588]), 'split3_test_recall_macro': array([0.77962601, 0.76951511, 0.73526854, 0.76375299]), 'params': [{'n_estimators': 100, 'min_samples_split': 5, 'criterion': 'entropy', 'max_features': 'sqrt', 'min_samples_leaf': 1}, {'n_estimators': 200, 'min_samples_split': 5, 'criterion': 'entropy', 'max_features': 'sqrt', 'min_samples_leaf': 1}, {'n_estimators': 500, 'min_samples_split': 5, 'criterion': 'entropy', 'max_features': 'sqrt', 'min_samples_leaf': 1}, {'n_estimators': 1000, 'min_samples_split': 5, 'criterion': 'entropy', 'max_features': 'sqrt', 'min_samples_leaf': 1}], 'split4_test_f1_macro': array([0.69938108, 0.71759563, 0.73057451, 0.7535014 ]), 'split9_test_precision_micro': array([0.68888889, 0.6962963 , 0.68888889, 0.7037037 ]), 'param_max_features': masked_array(data=['sqrt', 'sqrt', 'sqrt', 'sqrt'],\n",
      "             mask=[False, False, False, False],\n",
      "       fill_value='?',\n",
      "            dtype=object), 'split7_test_roc_auc': array([0.88269189, 0.88301805, 0.88997608, 0.89041096]), 'split8_test_recall_micro': array([0.74264706, 0.75735294, 0.77205882, 0.78676471]), 'split3_test_roc_auc': array([0.84094368, 0.84648837, 0.84714068, 0.85257665]), 'split7_test_precision_macro': array([0.79344262, 0.80260831, 0.80830601, 0.79344262]), 'split8_test_f1_micro': array([0.74264706, 0.75735294, 0.77205882, 0.78676471]), 'split5_test_f1_micro': array([0.72058824, 0.75      , 0.72058824, 0.73529412]), 'split7_test_f1_macro': array([0.79250218, 0.79902578, 0.80732345, 0.79250218]), 'split1_test_roc_auc': array([0.79147641, 0.79234616, 0.80452272, 0.79017178]), 'split1_test_recall_macro': array([0.69091107, 0.66927593, 0.70569689, 0.68732333]), 'split2_test_f1_macro': array([0.7551154 , 0.78536054, 0.76342683, 0.76388889]), 'split4_test_recall_macro': array([0.69884758, 0.71689498, 0.72950641, 0.75222875]), 'split0_test_precision_macro': array([0.70380195, 0.71964286, 0.74309764, 0.75      ]), 'split6_test_f1_macro': array([0.7167783 , 0.74051627, 0.73208758, 0.72525253]), 'split2_test_recall_micro': array([0.75735294, 0.78676471, 0.76470588, 0.76470588]), 'split6_test_accuracy': array([0.72794118, 0.75      , 0.74264706, 0.73529412]), 'rank_test_f1_micro': array([4, 2, 3, 1], dtype=int32), 'std_test_precision_micro': array([0.03477978, 0.03816799, 0.03166079, 0.03175205]), 'split7_test_recall_micro': array([0.79411765, 0.80147059, 0.80882353, 0.79411765]), 'split9_test_roc_auc': array([0.7691118 , 0.74812196, 0.7613787 , 0.75872735]), 'split0_test_accuracy': array([0.70588235, 0.72058824, 0.74264706, 0.75      ]), 'split3_test_f1_macro': array([0.78155636, 0.77104377, 0.73636112, 0.76534758]), 'split3_test_recall_micro': array([0.78676471, 0.77941176, 0.74264706, 0.77205882]), 'mean_score_time': array([0.47705317, 0.8469435 , 2.19080362, 4.51850328]), 'split2_test_precision_macro': array([0.75657895, 0.78574542, 0.76342683, 0.76359697]), 'split5_test_recall_micro': array([0.72058824, 0.75      , 0.72058824, 0.73529412]), 'split5_test_precision_micro': array([0.72058824, 0.75      , 0.72058824, 0.73529412]), 'rank_test_accuracy': array([4, 2, 3, 1], dtype=int32), 'std_test_f1_micro': array([0.03477978, 0.03816799, 0.03166079, 0.03175205]), 'std_test_roc_auc': array([0.03519989, 0.03712066, 0.03432363, 0.0358919 ]), 'param_n_estimators': masked_array(data=[100, 200, 500, 1000],\n",
      "             mask=[False, False, False, False],\n",
      "       fill_value='?',\n",
      "            dtype=object), 'split3_test_precision_micro': array([0.78676471, 0.77941176, 0.74264706, 0.77205882]), 'split6_test_roc_auc': array([0.82474451, 0.84061753, 0.81974342, 0.83605132]), 'split8_test_accuracy': array([0.74264706, 0.75735294, 0.77205882, 0.78676471]), 'split9_test_f1_micro': array([0.68888889, 0.6962963 , 0.68888889, 0.7037037 ]), 'split2_test_roc_auc': array([0.83431181, 0.8269189 , 0.83083279, 0.8258317 ]), 'split7_test_recall_macro': array([0.79191129, 0.79767341, 0.80669711, 0.79191129]), 'split9_test_precision_macro': array([0.68685625, 0.69545455, 0.6882716 , 0.7037037 ]), 'split3_test_accuracy': array([0.78676471, 0.77941176, 0.74264706, 0.77205882]), 'std_test_precision_macro': array([0.03602868, 0.0408922 , 0.0316863 , 0.0334812 ])}, {'n_estimators': 1000, 'min_samples_split': 5, 'criterion': 'entropy', 'max_features': 'sqrt', 'min_samples_leaf': 1}, array(['CD', 'CD', 'CD', ..., 'CD', 'CD', 'CD'], dtype='<U6')]\n"
     ]
    }
   ],
   "source": [
    "# CREAR E ENTRENAR OS CLASIFICADORES E GARDAR OS RESULTADOS \n",
    "##### (results containing the best parameter, confusion matrix, best estimator)\n",
    "\n",
    "################ Random Forest ################\n",
    "MRF = RFClassifier(X, Y)\n",
    "MRF.tune_and_eval('../../crohns_disease/results/RFclassifier', n_fold=10, n_jobs=4)"
   ]
  },
  {
   "cell_type": "code",
   "execution_count": null,
   "metadata": {},
   "outputs": [],
   "source": [
    "################ Support Vector Machine ################\n",
    "MSVM = SVM(X, Y)\n",
    "MSVM.tune_and_eval('../../crohns_disease/results/SVMclassifier', n_fold=10, n_jobs=4)"
   ]
  },
  {
   "cell_type": "markdown",
   "metadata": {},
   "source": [
    "#### DNN Classifier"
   ]
  },
  {
   "cell_type": "code",
   "execution_count": 2,
   "metadata": {},
   "outputs": [],
   "source": [
    "# CARGAR O ARQUIVO DE REPRESENTACIÓN K-MERS QUE MELLORES RESULTADOS DESE E OS RESULTADOS DE CLASIFICACIÓN REAIS\n",
    "\n",
    "X=FileUtility.load_sparse_csr('../../crohns_disease/datasets/dataset_6-mers_rate_complete1359_seq_5000.npz').toarray()\n",
    "#X=FileUtility.load_sparse_csr('../../crohns_disease/datasets/PRUEBA-dataset_6-mers_rate_complete1359_seq_5000.npz').toarray()\n",
    "Y=FileUtility.load_list('../../crohns_disease/datasets/labels_disease_complete1359.txt')\n",
    "#Y=FileUtility.load_list('../../crohns_disease/datasets/PRUEBA-labels_disease_complete1359.txt')"
   ]
  },
  {
   "cell_type": "code",
   "execution_count": 3,
   "metadata": {},
   "outputs": [
    {
     "name": "stdout",
     "output_type": "stream",
     "text": [
      "\n",
      " Evaluation on a new fold is now get started ..\n",
      "128/136 [===========================>..] - ETA: 0s\n",
      " Evaluation on a new fold is now get started ..\n",
      " 96/136 [====================>.........] - ETA: 0s\n",
      " Evaluation on a new fold is now get started ..\n",
      "128/136 [===========================>..] - ETA: 0s\n",
      " Evaluation on a new fold is now get started ..\n",
      "136/136 [==============================] - 0s     \n",
      "\n",
      " Evaluation on a new fold is now get started ..\n",
      " 32/136 [======>.......................] - ETA: 0s\n",
      " Evaluation on a new fold is now get started ..\n",
      " 32/136 [======>.......................] - ETA: 0s\n",
      " Evaluation on a new fold is now get started ..\n",
      "136/136 [==============================] - 0s     \n",
      "\n",
      " Evaluation on a new fold is now get started ..\n",
      " 32/136 [======>.......................] - ETA: 0s\n",
      " Evaluation on a new fold is now get started ..\n",
      " 32/136 [======>.......................] - ETA: 0s\n",
      " Evaluation on a new fold is now get started ..\n",
      "135/135 [==============================] - 0s     \n",
      "[['CD', 'Not-CD'], array([[540, 191],\n",
      "       [233, 395]]), [0.6911764705882353, 0.7352941176470589, 0.6544117647058824, 0.6985294117647058, 0.7426470588235294, 0.6323529411764706, 0.7132352941176471, 0.625, 0.7426470588235294, 0.6444444444444445], [0.6911764705882353, 0.7352941176470589, 0.6544117647058824, 0.6985294117647058, 0.7426470588235294, 0.6323529411764706, 0.7132352941176471, 0.625, 0.7426470588235294, 0.6444444444444445], [0.6911764705882353, 0.735294117647059, 0.6544117647058824, 0.6985294117647058, 0.7426470588235294, 0.6323529411764706, 0.7132352941176471, 0.625, 0.7426470588235294, 0.6444444444444445], [0.69004329004329, 0.768437747819191, 0.6615612648221343, 0.7057017543859649, 0.7713953488372093, 0.6396654193264363, 0.7165750915750915, 0.6653846153846154, 0.74128160418483, 0.6415136587550381], [0.6913687881429817, 0.720808871493803, 0.642204827136334, 0.7039573820395738, 0.753750815394651, 0.6379647749510764, 0.7056968906283975, 0.6028484453141987, 0.7407045009784736, 0.639637649138312], [0.6901041666666667, 0.7176470588235295, 0.6379495893514584, 0.6983826472656461, 0.7402739128062421, 0.6320346320346322, 0.7062309609526447, 0.5741388837723338, 0.740952380952381, 0.6400000000000001], [0.6911764705882353, 0.7352941176470589, 0.6544117647058824, 0.6985294117647058, 0.7426470588235294, 0.6323529411764706, 0.7132352941176471, 0.625, 0.7426470588235294, 0.6444444444444445], [0.6913687881429817, 0.720808871493803, 0.642204827136334, 0.7039573820395739, 0.7537508153946509, 0.6379647749510764, 0.7056968906283975, 0.6028484453141988, 0.7407045009784735, 0.6396376491383119], ([0.6930151753176271, 0.6909957021669625, 0.6894561815885157, 0.6879370368384068, 0.6857859803960215, 0.6823004550404019, 0.6789019598680384, 0.6751110094045502, 0.6694307350644878, 0.6667127543025546, 0.6641194894422893, 0.6638242060842078, 0.6614219667085635, 0.6611030082297481, 0.6565849819993661, 0.653396437760272, 0.6552694930749781, 0.6496197051472135, 0.6475258247525084, 0.6488107645433713, 0.6393233670128716, 0.6365506271131678, 0.632743568981395, 0.6303141346943923, 0.6259767120959712, 0.621574315370298, 0.6180046434495964, 0.6257694410342797, 0.6094202044742559, 0.6249997292468751, 0.6357430243024639, 0.6142150315583921, 0.6041261035632464, 0.5997151237687254, 0.608871680069593, 0.6029438310199313, 0.5876118645948523, 0.5956182659061906, 0.6143508031477336, 0.5779097150353825, 0.5883921034195844, 0.5981617297222411, 0.5835469033983018, 0.5594849177435333, 0.5617174268548005, 0.5516326100218529, 0.5400863426183563, 0.5352051285357257, 0.5188677217446122, 0.521275995214001, 0.513023132202672, 0.5188568355211245, 0.5094490109705457, 0.5427663579485775, 0.5104029416258818, 0.5221459982441921, 0.5564287449020187, 0.5224610146354226, 0.5192076172314438, 0.5341093851849924, 0.5193508107677783, 0.5070777169240066, 0.49716372524990754, 0.49463458524809945, 0.4950575822708653, 0.4824468002599828, 0.477584077252282, 0.47148219198962443, 0.47636089566486334, 0.47360918977681327, 0.4706513246679618, 0.46135276030091676, 0.4670876915158789, 0.464759455786811, 0.4503992088869506, 0.455426989427579, 0.4668413955791324, 0.4516755599601596, 0.4643729270673266, 0.6011461428567475, 0.4958782178514144, 0.4928579316809287, 0.4641988343662686, 0.45718472962285955, 0.456724099668802, 0.46544139174854054, 0.46857258716439887, 0.46500937105004303, 0.47084957263828103, 0.4424609931465847, 0.42938538061247933, 0.42722716498998253, 0.4300755513649361, 0.43640301215882393, 0.430083469432943, 0.42063364483951743, 0.41799087325731915, 0.42242658703155767, 0.4126569903364368, 0.4187733349846859], [0.6909183263778687, 0.6888149380683899, 0.6873533129692078, 0.6852193474769592, 0.6814001202583313, 0.6770730018615723, 0.6741571426391602, 0.6692545413970947, 0.667564332485199, 0.6685163378715515, 0.6704884767532349, 0.6695367693901062, 0.669310986995697, 0.6629550457000732, 0.6606666445732117, 0.6630682945251465, 0.6579658389091492, 0.6543887853622437, 0.6591020822525024, 0.6510809659957886, 0.6483700275421143, 0.6419477462768555, 0.6460008025169373, 0.6354800462722778, 0.6322903037071228, 0.6298015117645264, 0.6471725702285767, 0.6290402412414551, 0.6612786650657654, 0.6507036089897156, 0.651957631111145, 0.6249821186065674, 0.6262731552124023, 0.6643132567405701, 0.6265753507614136, 0.6280004382133484, 0.6685230135917664, 0.6401321887969971, 0.6197780966758728, 0.6723357439041138, 0.6350259184837341, 0.6569960117340088, 0.6200264692306519, 0.6158862113952637, 0.6409390568733215, 0.6182093024253845, 0.6310257315635681, 0.6278199553489685, 0.634468674659729, 0.6482167840003967, 0.6581257581710815, 0.6604609489440918, 0.6866665482521057, 0.6650677919387817, 0.6513425707817078, 0.6826974749565125, 0.6669798493385315, 0.6368771195411682, 0.6478057503700256, 0.6668385863304138, 0.6302699446678162, 0.6336497664451599, 0.650954008102417, 0.6378110647201538, 0.6535889506340027, 0.6450827121734619, 0.6628730297088623, 0.6693406105041504, 0.6720228791236877, 0.662979245185852, 0.6676114797592163, 0.6497145891189575, 0.649901270866394, 0.66510009765625, 0.6574345827102661, 0.6475666165351868, 0.6648643016815186, 0.712750256061554, 0.7307928800582886, 0.7490624785423279, 0.6261751055717468, 0.6480767130851746, 0.6185317635536194, 0.6181219220161438, 0.6801795959472656, 0.631628692150116, 0.6935176849365234, 0.6374866366386414, 0.6547669768333435, 0.6396296620368958, 0.6494213342666626, 0.6457585096359253, 0.6899313926696777, 0.6405774354934692, 0.6483680605888367, 0.67010098695755, 0.6485607624053955, 0.6872925758361816, 0.6492099761962891, 0.6829607486724854], range(1, 101))]\n"
     ]
    }
   ],
   "source": [
    "# CREAR E ENTRENAR OS CLASIFICADORES E GARDAR OS RESULTADOS\n",
    "\n",
    "################ Multilayer Perceptron  ################\n",
    "DNN=DNNMutliclass16S(X, Y, model_strct='mlp', model_arch=[1024,0.2,512,0.2,256,0.1,128,8])\n",
    "DNN.tune_and_eval('../../crohns_disease/results/MLPclassifier', gpu_dev='1', n_fold=10, epochs=100, batch_size=1000, save_weights=False)\n",
    "#DNN.tune_and_eval('../../crohns_disease/results/MLPclassifier', gpu_dev='1', n_fold=2, epochs=1, batch_size=6, save_weights=True)"
   ]
  },
  {
   "cell_type": "code",
   "execution_count": null,
   "metadata": {},
   "outputs": [],
   "source": [
    "#X_new=DNNMutliclass16S.make_activation_function(X, '../../crohns_disease/results-PRUEBA/DNNclassifier/weights_layers_mlp_1024-0.2-512-0.2-256-0.1-128-8_0.37.pickle')\n",
    "#X_new=DNN.make_activation_function()\n",
    "#X_new"
   ]
  },
  {
   "cell_type": "markdown",
   "metadata": {},
   "source": [
    "### Métricas obtidas (as resumidas están nos .txt)"
   ]
  },
  {
   "cell_type": "code",
   "execution_count": 7,
   "metadata": {},
   "outputs": [
    {
     "data": {
      "text/html": [
       "<div>\n",
       "<style scoped>\n",
       "    .dataframe tbody tr th:only-of-type {\n",
       "        vertical-align: middle;\n",
       "    }\n",
       "\n",
       "    .dataframe tbody tr th {\n",
       "        vertical-align: top;\n",
       "    }\n",
       "\n",
       "    .dataframe thead th {\n",
       "        text-align: right;\n",
       "    }\n",
       "</style>\n",
       "<table border=\"1\" class=\"dataframe\">\n",
       "  <thead>\n",
       "    <tr style=\"text-align: right;\">\n",
       "      <th></th>\n",
       "      <th>Unnamed: 0</th>\n",
       "      <th>mean_fit_time</th>\n",
       "      <th>mean_score_time</th>\n",
       "      <th>mean_test_accuracy</th>\n",
       "      <th>mean_test_f1_macro</th>\n",
       "      <th>mean_test_f1_micro</th>\n",
       "      <th>mean_test_precision_macro</th>\n",
       "      <th>mean_test_precision_micro</th>\n",
       "      <th>mean_test_recall_macro</th>\n",
       "      <th>mean_test_recall_micro</th>\n",
       "      <th>...</th>\n",
       "      <th>std_fit_time</th>\n",
       "      <th>std_score_time</th>\n",
       "      <th>std_test_accuracy</th>\n",
       "      <th>std_test_f1_macro</th>\n",
       "      <th>std_test_f1_micro</th>\n",
       "      <th>std_test_precision_macro</th>\n",
       "      <th>std_test_precision_micro</th>\n",
       "      <th>std_test_recall_macro</th>\n",
       "      <th>std_test_recall_micro</th>\n",
       "      <th>std_test_roc_auc</th>\n",
       "    </tr>\n",
       "  </thead>\n",
       "  <tbody>\n",
       "    <tr>\n",
       "      <th>0</th>\n",
       "      <td>0</td>\n",
       "      <td>0.274773</td>\n",
       "      <td>0.048121</td>\n",
       "      <td>0.583333</td>\n",
       "      <td>0.500000</td>\n",
       "      <td>0.583333</td>\n",
       "      <td>0.500</td>\n",
       "      <td>0.583333</td>\n",
       "      <td>0.6250</td>\n",
       "      <td>0.583333</td>\n",
       "      <td>...</td>\n",
       "      <td>0.015310</td>\n",
       "      <td>0.008291</td>\n",
       "      <td>0.083333</td>\n",
       "      <td>0.166667</td>\n",
       "      <td>0.083333</td>\n",
       "      <td>0.250</td>\n",
       "      <td>0.083333</td>\n",
       "      <td>0.1250</td>\n",
       "      <td>0.083333</td>\n",
       "      <td>0.125000</td>\n",
       "    </tr>\n",
       "    <tr>\n",
       "      <th>1</th>\n",
       "      <td>1</td>\n",
       "      <td>0.392367</td>\n",
       "      <td>0.107916</td>\n",
       "      <td>0.583333</td>\n",
       "      <td>0.500000</td>\n",
       "      <td>0.583333</td>\n",
       "      <td>0.500</td>\n",
       "      <td>0.583333</td>\n",
       "      <td>0.6250</td>\n",
       "      <td>0.583333</td>\n",
       "      <td>...</td>\n",
       "      <td>0.007053</td>\n",
       "      <td>0.004524</td>\n",
       "      <td>0.083333</td>\n",
       "      <td>0.166667</td>\n",
       "      <td>0.083333</td>\n",
       "      <td>0.250</td>\n",
       "      <td>0.083333</td>\n",
       "      <td>0.1250</td>\n",
       "      <td>0.083333</td>\n",
       "      <td>0.222222</td>\n",
       "    </tr>\n",
       "    <tr>\n",
       "      <th>2</th>\n",
       "      <td>2</td>\n",
       "      <td>1.625224</td>\n",
       "      <td>0.407611</td>\n",
       "      <td>0.500000</td>\n",
       "      <td>0.409524</td>\n",
       "      <td>0.500000</td>\n",
       "      <td>0.475</td>\n",
       "      <td>0.500000</td>\n",
       "      <td>0.5625</td>\n",
       "      <td>0.500000</td>\n",
       "      <td>...</td>\n",
       "      <td>0.046510</td>\n",
       "      <td>0.030360</td>\n",
       "      <td>0.000000</td>\n",
       "      <td>0.076190</td>\n",
       "      <td>0.000000</td>\n",
       "      <td>0.225</td>\n",
       "      <td>0.000000</td>\n",
       "      <td>0.0625</td>\n",
       "      <td>0.000000</td>\n",
       "      <td>0.076389</td>\n",
       "    </tr>\n",
       "    <tr>\n",
       "      <th>3</th>\n",
       "      <td>3</td>\n",
       "      <td>4.355545</td>\n",
       "      <td>0.769961</td>\n",
       "      <td>0.583333</td>\n",
       "      <td>0.500000</td>\n",
       "      <td>0.583333</td>\n",
       "      <td>0.500</td>\n",
       "      <td>0.583333</td>\n",
       "      <td>0.6250</td>\n",
       "      <td>0.583333</td>\n",
       "      <td>...</td>\n",
       "      <td>0.123378</td>\n",
       "      <td>0.100070</td>\n",
       "      <td>0.083333</td>\n",
       "      <td>0.166667</td>\n",
       "      <td>0.083333</td>\n",
       "      <td>0.250</td>\n",
       "      <td>0.083333</td>\n",
       "      <td>0.1250</td>\n",
       "      <td>0.083333</td>\n",
       "      <td>0.013889</td>\n",
       "    </tr>\n",
       "  </tbody>\n",
       "</table>\n",
       "<p>4 rows × 51 columns</p>\n",
       "</div>"
      ],
      "text/plain": [
       "   Unnamed: 0  mean_fit_time  mean_score_time  mean_test_accuracy  \\\n",
       "0           0       0.274773         0.048121            0.583333   \n",
       "1           1       0.392367         0.107916            0.583333   \n",
       "2           2       1.625224         0.407611            0.500000   \n",
       "3           3       4.355545         0.769961            0.583333   \n",
       "\n",
       "   mean_test_f1_macro  mean_test_f1_micro  mean_test_precision_macro  \\\n",
       "0            0.500000            0.583333                      0.500   \n",
       "1            0.500000            0.583333                      0.500   \n",
       "2            0.409524            0.500000                      0.475   \n",
       "3            0.500000            0.583333                      0.500   \n",
       "\n",
       "   mean_test_precision_micro  mean_test_recall_macro  mean_test_recall_micro  \\\n",
       "0                   0.583333                  0.6250                0.583333   \n",
       "1                   0.583333                  0.6250                0.583333   \n",
       "2                   0.500000                  0.5625                0.500000   \n",
       "3                   0.583333                  0.6250                0.583333   \n",
       "\n",
       "   ...  std_fit_time std_score_time std_test_accuracy  std_test_f1_macro  \\\n",
       "0  ...      0.015310       0.008291          0.083333           0.166667   \n",
       "1  ...      0.007053       0.004524          0.083333           0.166667   \n",
       "2  ...      0.046510       0.030360          0.000000           0.076190   \n",
       "3  ...      0.123378       0.100070          0.083333           0.166667   \n",
       "\n",
       "   std_test_f1_micro  std_test_precision_macro std_test_precision_micro  \\\n",
       "0           0.083333                     0.250                 0.083333   \n",
       "1           0.083333                     0.250                 0.083333   \n",
       "2           0.000000                     0.225                 0.000000   \n",
       "3           0.083333                     0.250                 0.083333   \n",
       "\n",
       "   std_test_recall_macro  std_test_recall_micro  std_test_roc_auc  \n",
       "0                 0.1250               0.083333          0.125000  \n",
       "1                 0.1250               0.083333          0.222222  \n",
       "2                 0.0625               0.000000          0.076389  \n",
       "3                 0.1250               0.083333          0.013889  \n",
       "\n",
       "[4 rows x 51 columns]"
      ]
     },
     "execution_count": 7,
     "metadata": {},
     "output_type": "execute_result"
    }
   ],
   "source": [
    "metrics=pd.read_csv(\"../../crohns_disease/results/RFclassifier/all_metrics.csv\") # RF\n",
    "#metrics=pd.read_csv(\"../../crohns_disease/results/SVMclassifier/all_metrics.csv\") # SVM\n",
    "metrics"
   ]
  },
  {
   "cell_type": "markdown",
   "metadata": {},
   "source": [
    "### Matrices de confusión"
   ]
  },
  {
   "cell_type": "code",
   "execution_count": 4,
   "metadata": {},
   "outputs": [
    {
     "name": "stdout",
     "output_type": "stream",
     "text": [
      "Populating the interactive namespace from numpy and matplotlib\n"
     ]
    }
   ],
   "source": [
    "import matplotlib.pyplot as plt\n",
    "%pylab inline\n",
    "%matplotlib inline \n",
    "from utility.visualization_utility import create_mat_plot"
   ]
  },
  {
   "cell_type": "code",
   "execution_count": 3,
   "metadata": {},
   "outputs": [
    {
     "data": {
      "image/png": "[encoded data removed]",
      "text/plain": [
       "<Figure size 432x288 with 2 Axes>"
      ]
     },
     "metadata": {},
     "output_type": "display_data"
    },
    {
     "data": {
      "text/plain": [
       "<Figure size 432x288 with 0 Axes>"
      ]
     },
     "metadata": {},
     "output_type": "display_data"
    }
   ],
   "source": [
    "################ Random Forest ################\n",
    "# load the results\n",
    "[label_set, conf, best_score_, best_estimator_, cv_results_, best_params_, predictions]=FileUtility.load_obj('../../crohns_disease/results/RFclassifier/all_results.pickle')\n",
    "label_set=[x.replace('_',' ') for x in label_set]\n",
    "\n",
    "# create the plot (Confusion matrix) and save it in a pdf\n",
    "create_mat_plot(conf, label_set, '', '../../crohns_disease/results/RFclassifier/confusion_matrix', 'Predicted labels' ,'Actual labels', cmap='Purples', filetype='pdf',font_s=8)"
   ]
  },
  {
   "cell_type": "code",
   "execution_count": 4,
   "metadata": {},
   "outputs": [
    {
     "data": {
      "image/png": "[encoded data removed]",
      "text/plain": [
       "<Figure size 432x288 with 2 Axes>"
      ]
     },
     "metadata": {},
     "output_type": "display_data"
    },
    {
     "data": {
      "text/plain": [
       "<Figure size 432x288 with 0 Axes>"
      ]
     },
     "metadata": {},
     "output_type": "display_data"
    }
   ],
   "source": [
    "################ Support Vector Machine ################\n",
    "[label_set, conf, best_score_, best_estimator_,cv_results_, best_params_, predictions]=FileUtility.load_obj('../../crohns_disease/results/SVMclassifier/all_results.pickle')\n",
    "label_set=[x.replace('_',' ') for x in label_set]\n",
    "create_mat_plot(conf, label_set, '', '../../crohns_disease/results/SVMclassifier/confusion_matrix', 'Predicted labels' ,'Actual labels', cmap='Purples', filetype='pdf', rx=80, ry=0, font_s=15)"
   ]
  },
  {
   "cell_type": "code",
   "execution_count": 6,
   "metadata": {},
   "outputs": [
    {
     "data": {
      "image/png": "[encoded data removed]",
      "text/plain": [
       "<Figure size 432x288 with 2 Axes>"
      ]
     },
     "metadata": {},
     "output_type": "display_data"
    },
    {
     "data": {
      "text/plain": [
       "<Figure size 432x288 with 0 Axes>"
      ]
     },
     "metadata": {},
     "output_type": "display_data"
    }
   ],
   "source": [
    "################ Multilayer Perceptron ################\n",
    "[labels_alphanum, conf, p_micro, r_micro, f1_micro, p_macro, r_macro, f1_macro, accuracy, roc_auc, (loss_values, val_loss_values, epochs)]=FileUtility.load_obj('../../crohns_disease/results/MLPclassifier/results_mlp_1024-0.2-512-0.2-256-0.1-128-8_0.68.pickle')\n",
    "label_set=[x.replace('_',' ') for x in labels_alphanum]\n",
    "create_mat_plot(conf, label_set, '', '../../crohns_disease/results/MLPclassifier/confusion_matrix', 'Predicted labels' ,'Actual labels', cmap='Purples', filetype='pdf', rx=80, ry=0, font_s=15)"
   ]
  },
  {
   "cell_type": "code",
   "execution_count": 13,
   "metadata": {},
   "outputs": [
    {
     "data": {
      "text/plain": [
       "array([[0, 5],\n",
       "       [0, 7]])"
      ]
     },
     "execution_count": 13,
     "metadata": {},
     "output_type": "execute_result"
    }
   ],
   "source": [
    "conf"
   ]
  }
 ],
 "metadata": {
  "interpreter": {
   "hash": "81794d4967e6c3204c66dcd87b604927b115b27c00565d3d43f05ba2f3a2cb0d"
  },
  "kernelspec": {
   "display_name": "Python 3 (ipykernel)",
   "language": "python",
   "name": "python3"
  },
  "language_info": {
   "codemirror_mode": {
    "name": "ipython",
    "version": 3
   },
   "file_extension": ".py",
   "mimetype": "text/x-python",
   "name": "python",
   "nbconvert_exporter": "python",
   "pygments_lexer": "ipython3",
   "version": "3.9.4"
  }
 },
 "nbformat": 4,
 "nbformat_minor": 2
}
