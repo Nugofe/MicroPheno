{
 "cells": [
  {
   "cell_type": "code",
   "execution_count": 7,
   "metadata": {
    "collapsed": true,
    "deletable": true,
    "editable": true
   },
   "outputs": [],
   "source": [
    "import sys\n",
    "sys.path.append('../')\n",
    "from make_representations.representation_maker import Metagenomic16SRepresentation\n",
    "from utility.file_utility import FileUtility"
   ]
  },
  {
   "cell_type": "markdown",
   "metadata": {
    "deletable": true,
    "editable": true
   },
   "source": [
    "## Crohn Disease"
   ]
  },
  {
   "cell_type": "code",
   "execution_count": 2,
   "metadata": {
    "collapsed": true,
    "deletable": true,
    "editable": true
   },
   "outputs": [],
   "source": [
    "\n",
    "#cpe_file='../../datasets/processed_data/crohn/npe/cpe_16s_5000'\n",
    "fasta_files, mapping = FileUtility.read_fasta_directory('/mounts/data/proj/asgari/dissertation/datasets/deepbio/microbiome/crohn/','fastq')"
   ]
  },
  {
   "cell_type": "code",
   "execution_count": 3,
   "metadata": {
    "collapsed": false,
    "deletable": true,
    "editable": true
   },
   "outputs": [
    {
     "name": "stderr",
     "output_type": "stream",
     "text": [
      "100%|██████████| 1359/1359 [21:15<00:00,  1.72s/it]\n",
      "100%|██████████| 1359/1359 [35:55<00:00,  2.50s/it] \n",
      "100%|██████████| 1359/1359 [48:20<00:00,  3.30s/it] \n"
     ]
    }
   ],
   "source": [
    "values={2000:5000,5000:10000,10000:15000}\n",
    "for k,v in values.items():\n",
    "    RS_b=Metagenomic16SRepresentation(fasta_files, mapping, v, 20)\n",
    "    cpe_file='../../datasets/processed_data/crohn/npe/cpe_16s_'+str(k)\n",
    "    RS_b.generate_cpe_all(cpe_file, '../../datasets/processed_data/crohn/npe/npe_'+str(k)+'_'+str(v))\n"
   ]
  },
  {
   "cell_type": "code",
   "execution_count": null,
   "metadata": {
    "collapsed": true,
    "deletable": true,
    "editable": true
   },
   "outputs": [],
   "source": [
    "values={1000:2000,2000:5000,5000:1000}\n",
    "for k,v in values.items():\n",
    "    RS_b=Metagenomic16SRepresentation(fasta_files, mapping, v, 20)\n",
    "    cpe_file='../../datasets/processed_data/crohn/npe/cpe_16s_'+str(k)\n",
    "    RS_b.generate_cpe_all(cpe_file, '../../datasets/processed_data/crohn/npe/npe_'+str(k)+'_'+str(v))\n",
    "\n"
   ]
  },
  {
   "cell_type": "code",
   "execution_count": 3,
   "metadata": {
    "collapsed": false,
    "deletable": true,
    "editable": true
   },
   "outputs": [],
   "source": [
    "RS=Metagenomic16SRepresentation(fasta_files, mapping, -1, 20)"
   ]
  },
  {
   "cell_type": "code",
   "execution_count": 4,
   "metadata": {
    "collapsed": false,
    "deletable": true,
    "editable": true
   },
   "outputs": [
    {
     "name": "stderr",
     "output_type": "stream",
     "text": [
      "100%|██████████| 1359/1359 [1:07:40<00:00, 14.53s/it]\n"
     ]
    },
    {
     "data": {
      "text/plain": [
       "<1359x4950 sparse matrix of type '<class 'numpy.float64'>'\n",
       "\twith 4082054 stored elements in Compressed Sparse Row format>"
      ]
     },
     "execution_count": 4,
     "metadata": {},
     "output_type": "execute_result"
    }
   ],
   "source": [
    "RS.generate_cpe_all(cpe_file, '../../datasets/processed_data/crohn/npe/npe_5000_-1' )"
   ]
  },
  {
   "cell_type": "code",
   "execution_count": 13,
   "metadata": {
    "collapsed": false,
    "deletable": true,
    "editable": true
   },
   "outputs": [],
   "source": [
    "FileUtility.save_list('../../datasets/processed_data/crohn/npe/npe_vocab_5000', RS.cpe_vocab)"
   ]
  },
  {
   "cell_type": "markdown",
   "metadata": {
    "deletable": true,
    "editable": true
   },
   "source": [
    "# Body Site"
   ]
  },
  {
   "cell_type": "code",
   "execution_count": 8,
   "metadata": {
    "collapsed": false,
    "deletable": true,
    "editable": true
   },
   "outputs": [
    {
     "name": "stdout",
     "output_type": "stream",
     "text": [
      "/mounts/data/proj/asgari/github_repos/microbiomephenotype/data_config/bodysites/stool.txt\n",
      "/mounts/data/proj/asgari/github_repos/microbiomephenotype/data_config/bodysites/vagina.txt\n",
      "/mounts/data/proj/asgari/github_repos/microbiomephenotype/data_config/bodysites/nose.txt\n",
      "/mounts/data/proj/asgari/github_repos/microbiomephenotype/data_config/bodysites/posterior.txt\n",
      "/mounts/data/proj/asgari/github_repos/microbiomephenotype/data_config/bodysites/saliva.txt\n"
     ]
    }
   ],
   "source": [
    "files=FileUtility.recursive_glob('/mounts/data/proj/asgari/github_repos/microbiomephenotype/data_config/bodysites/','*.txt')\n",
    "list_of_files=[]\n",
    "for file in files:\n",
    "    print (file)\n",
    "    list_of_files+=FileUtility.load_list(file)\n",
    "list_of_files=[x+'.fsa' for x in list_of_files]\n",
    "fasta_files, mapping = FileUtility.read_fasta_directory('/mounts/data/proj/asgari/dissertation/datasets/deepbio/microbiome/hmb_data/','fsa',only_files=list_of_files)"
   ]
  },
  {
   "cell_type": "code",
   "execution_count": null,
   "metadata": {
    "collapsed": false,
    "deletable": true,
    "editable": true
   },
   "outputs": [
    {
     "name": "stderr",
     "output_type": "stream",
     "text": [
      " 39%|███▉      | 469/1192 [1:26:20<1:27:17,  7.24s/it]"
     ]
    }
   ],
   "source": [
    "values={5000:1000}\n",
    "#values={10000:-1,15000:-1}#{1000:2000,2000:5000,5000:-1,10000:-2}\n",
    "for k,v in values.items():\n",
    "    RS_b=Metagenomic16SRepresentation(fasta_files, mapping, v, 20)\n",
    "    cpe_file='../../datasets/processed_data/body-site/cpe/cpe_16s_'+str(k)\n",
    "    RS_b.generate_cpe_all(cpe_file, '../../datasets/processed_data/body-site/cpe/npe_'+str(k)+'_'+str(v))\n"
   ]
  },
  {
   "cell_type": "code",
   "execution_count": null,
   "metadata": {
    "collapsed": false,
    "deletable": true,
    "editable": true
   },
   "outputs": [],
   "source": [
    "values={10000:-1}\n",
    "for k,v in values.items():\n",
    "    RS_b=Metagenomic16SRepresentation(fasta_files, mapping, v, 20)\n",
    "    cpe_file='../../datasets/processed_data/body-site/cpe/cpe_16s_'+str(k)\n",
    "    RS_b.generate_cpe_all(cpe_file, '../../datasets/processed_data/body-site/cpe/npe_'+str(k)+'_'+str(v))"
   ]
  },
  {
   "cell_type": "code",
   "execution_count": 5,
   "metadata": {
    "collapsed": true,
    "deletable": true,
    "editable": true
   },
   "outputs": [],
   "source": [
    "FileUtility.save_list('../../datasets/processed_data/body-site/cpe/npe_vocab', RS_b.cpe_vocab)"
   ]
  },
  {
   "cell_type": "markdown",
   "metadata": {
    "deletable": true,
    "editable": true
   },
   "source": [
    "# Ecological"
   ]
  },
  {
   "cell_type": "code",
   "execution_count": 16,
   "metadata": {
    "collapsed": false,
    "deletable": true,
    "editable": true
   },
   "outputs": [
    {
     "name": "stdout",
     "output_type": "stream",
     "text": [
      "Populating the interactive namespace from numpy and matplotlib\n"
     ]
    },
    {
     "name": "stderr",
     "output_type": "stream",
     "text": [
      "/mounts/Users/student/asgari/.local/lib/python3.4/site-packages/IPython/core/magics/pylab.py:161: UserWarning: pylab import has clobbered these variables: ['random', 'f']\n",
      "`%matplotlib` prevents importing * from pylab and numpy\n",
      "  \"\\n`%matplotlib` prevents importing * from pylab and numpy\"\n"
     ]
    }
   ],
   "source": [
    "import sys\n",
    "sys.path.append('../')\n",
    "from sklearn.decomposition import PCA\n",
    "from sklearn.manifold import TSNE\n",
    "from utility.file_utility import FileUtility\n",
    "import numpy as np\n",
    "import matplotlib.pyplot as plt\n",
    "%pylab inline\n",
    "%matplotlib inline \n",
    "\n",
    "from sklearn.preprocessing import normalize\n",
    "from sklearn.feature_extraction.text import TfidfVectorizer\n",
    "from Bio import SeqIO\n",
    "from nltk import FreqDist\n",
    "import random\n",
    "import itertools\n",
    "from make_representations.cpe_apply import BPE\n",
    "import timeit\n",
    "from make_representations.cpe_efficient import train_cpe"
   ]
  },
  {
   "cell_type": "code",
   "execution_count": 7,
   "metadata": {
    "collapsed": true,
    "deletable": true,
    "editable": true
   },
   "outputs": [],
   "source": [
    "class ReadFasta(object):\n",
    "    '''\n",
    "    '''\n",
    "    def __init__(self, fasta_address, label_idf_func):\n",
    "        '''\n",
    "            Fasta: address\n",
    "            Label: function\n",
    "        '''\n",
    "        self.labels=[]\n",
    "        self.corpus=[]\n",
    "        for cur_record in SeqIO.parse(fasta_address, 'fasta'):\n",
    "            self.corpus.append(str(cur_record.seq).lower())\n",
    "            self.labels.append(str(cur_record.id).lower())\n",
    "        self.labels=[label_idf_func(l) for l in self.labels]\n",
    "    def get_samples(self, envs, N):\n",
    "        '''\n",
    "            Envs: list of envs\n",
    "            N: sample size\n",
    "        '''\n",
    "        labels=[]\n",
    "        corpus=[]\n",
    "        for env in envs:\n",
    "            selected=[idx for idx,v in enumerate(self.labels) if env==v]\n",
    "            if N==-1:\n",
    "                N=len(selected)\n",
    "            idxs=random.sample(selected, N)\n",
    "            corpus=corpus+[self.corpus[idx] for idx in idxs]\n",
    "            labels=labels+[self.labels[idx] for idx in idxs]\n",
    "        return corpus, labels\n",
    "    \n",
    "    def get_vector_rep(self, corpus, k, restricted=True):\n",
    "        if restricted:\n",
    "            vocab = [''.join(xs) for xs in itertools.product('atcg', repeat=k)]\n",
    "            tf_vec = TfidfVectorizer(use_idf=True, vocabulary=vocab, analyzer='char', ngram_range=(k, k),\n",
    "                                                  norm='l1', stop_words=[], lowercase=True, binary=False)\n",
    "        else:\n",
    "            tf_vec = TfidfVectorizer(use_idf=True, analyzer='char', ngram_range=(k, k),\n",
    "                                                  norm='l1', stop_words=[], lowercase=True, binary=False)\n",
    "        return tf_vec.fit_transform(corpus)"
   ]
  },
  {
   "cell_type": "code",
   "execution_count": 8,
   "metadata": {
    "collapsed": true,
    "deletable": true,
    "editable": true
   },
   "outputs": [],
   "source": [
    "FST=ReadFasta('/mounts/data/proj/asgari/dissertation/datasets/deepbio/microbiome/new/environment_16S.fa', lambda x:x.split('.')[0] )"
   ]
  },
  {
   "cell_type": "code",
   "execution_count": 9,
   "metadata": {
    "collapsed": true,
    "deletable": true,
    "editable": true
   },
   "outputs": [],
   "source": [
    "map_type=FileUtility.load_obj('../../datasets/processed_data/eco/map_label_type.pickle')\n",
    "eco=['soil', 'marine','bioreactor','freshwater','groundwater','sediment','bioreactor_sludge','food_fermentation','compost','rhizosphere','food','hydrocarbon','marine_sediment','activated_sludge','aquatic','hot_springs','freshwater_sediment','ant_fungus_garden']\n",
    "orgs=['human_gut','bovine_gut','mouse_gut','chicken_gut','termite_gut']"
   ]
  },
  {
   "cell_type": "code",
   "execution_count": 11,
   "metadata": {
    "collapsed": true,
    "deletable": true,
    "editable": true
   },
   "outputs": [],
   "source": []
  },
  {
   "cell_type": "code",
   "execution_count": 30,
   "metadata": {
    "collapsed": true,
    "deletable": true,
    "editable": true
   },
   "outputs": [],
   "source": [
    "corpus_eco, labels_eco=FST.get_samples(eco,1000)\n",
    "npe_file='../../datasets/processed_data/eco/cpe/npe_eco_10000'\n",
    "f=open(npe_file,'r')\n",
    "CPE_Applier=BPE(f,separator='')\n",
    "cpe_vocab=[''.join(x.split()).replace('</w>','').lower() for x in FileUtility.load_list(npe_file)[1::]]\n",
    "cpe_vocab=list(set(cpe_vocab))\n",
    "cpe_vocab.sort()\n",
    "cpe_vectorizer = TfidfVectorizer(use_idf=False, vocabulary=cpe_vocab, analyzer='word',\n",
    "                                          norm=None, stop_words=[], lowercase=True, binary=False, tokenizer=str.split)\n"
   ]
  },
  {
   "cell_type": "code",
   "execution_count": 52,
   "metadata": {
    "collapsed": false,
    "deletable": true,
    "editable": true
   },
   "outputs": [],
   "source": [
    "new_corpus=[]\n",
    "for x in corpus_eco:\n",
    "    new_corpus.append(CPE_Applier.segment(x))"
   ]
  },
  {
   "cell_type": "code",
   "execution_count": 53,
   "metadata": {
    "collapsed": true,
    "deletable": true,
    "editable": true
   },
   "outputs": [],
   "source": [
    "X=cpe_vectorizer.fit_transform(new_corpus)"
   ]
  },
  {
   "cell_type": "code",
   "execution_count": 54,
   "metadata": {
    "collapsed": false,
    "deletable": true,
    "editable": true
   },
   "outputs": [
    {
     "data": {
      "text/plain": [
       "(18000, 9938)"
      ]
     },
     "execution_count": 54,
     "metadata": {},
     "output_type": "execute_result"
    }
   ],
   "source": [
    "X.shape"
   ]
  },
  {
   "cell_type": "code",
   "execution_count": 44,
   "metadata": {
    "collapsed": false,
    "deletable": true,
    "editable": true
   },
   "outputs": [],
   "source": [
    "FileUtility.save_sparse_csr('../../datasets/processed_data/eco/features/npe_eco_restrictedmer.npz', X)\n",
    "FileUtility.save_list('../../datasets/processed_data/eco/features/eco_npe_label_restrictedkmer.txt',labels_eco)\n"
   ]
  },
  {
   "cell_type": "code",
   "execution_count": 45,
   "metadata": {
    "collapsed": true,
    "deletable": true,
    "editable": true
   },
   "outputs": [],
   "source": [
    "corpus_orgs, labels_orgs=FST.get_samples(orgs,620)"
   ]
  },
  {
   "cell_type": "code",
   "execution_count": 61,
   "metadata": {
    "collapsed": false,
    "deletable": true,
    "editable": true
   },
   "outputs": [],
   "source": [
    "f=open('../../datasets/processed_data/org/corpus_fasta.fasta','w')\n",
    "for idx, x in enumerate(corpus_orgs):\n",
    "    f.write('> subject_'+str(idx+1)+'\\n')\n",
    "    f.write(x+'\\n')\n",
    "    "
   ]
  },
  {
   "cell_type": "code",
   "execution_count": 73,
   "metadata": {
    "collapsed": false,
    "deletable": true,
    "editable": true
   },
   "outputs": [],
   "source": [
    "from Bio import SeqIO\n",
    "from Bio.Seq import Seq\n",
    "from Bio.SeqRecord import SeqRecord\n",
    "from Bio.Alphabet import IUPAC\n",
    "\n",
    "sequences=[SeqRecord(Seq(x, IUPAC.IUPACAmbiguousDNA), id='subject_'+str(idx+1)) for idx, x in enumerate(corpus_orgs)]\n",
    "with open(\"../../../datasets/deepbio/qiime/corpus_fasta_org.fasta\", \"w\") as output_handle:\n",
    "    SeqIO.write(sequences, output_handle, \"fasta\")\n"
   ]
  },
  {
   "cell_type": "code",
   "execution_count": 62,
   "metadata": {
    "collapsed": true,
    "deletable": true,
    "editable": true
   },
   "outputs": [],
   "source": [
    "f=open('../../datasets/processed_data/eco/corpus_fasta.fasta','w')\n",
    "for idx, x in enumerate(corpus_eco):\n",
    "    f.write('> subject_'+str(idx+1)+'\\n')\n",
    "    f.write(x+'\\n')"
   ]
  },
  {
   "cell_type": "code",
   "execution_count": 57,
   "metadata": {
    "collapsed": true,
    "deletable": true,
    "editable": true
   },
   "outputs": [],
   "source": [
    "npe_file='../../datasets/processed_data/org/cpe/npe_org_10000'\n",
    "f=open(npe_file,'r')\n",
    "CPE_Applier=BPE(f,separator='')\n",
    "cpe_vocab=[''.join(x.split()).replace('</w>','').lower() for x in FileUtility.load_list(npe_file)[1::]]\n",
    "cpe_vocab=list(set(cpe_vocab))\n",
    "cpe_vocab.sort()\n",
    "cpe_vectorizer = TfidfVectorizer(use_idf=False, vocabulary=cpe_vocab, analyzer='word',\n",
    "                                          norm=None, stop_words=[], lowercase=True, binary=False, tokenizer=str.split)\n"
   ]
  },
  {
   "cell_type": "code",
   "execution_count": 55,
   "metadata": {
    "collapsed": false,
    "deletable": true,
    "editable": true
   },
   "outputs": [],
   "source": [
    "new_corpus=[]\n",
    "for x in corpus_orgs:\n",
    "    new_corpus.append(CPE_Applier.segment(x))\n"
   ]
  },
  {
   "cell_type": "code",
   "execution_count": 58,
   "metadata": {
    "collapsed": true,
    "deletable": true,
    "editable": true
   },
   "outputs": [],
   "source": [
    "X=cpe_vectorizer.fit_transform(new_corpus)"
   ]
  },
  {
   "cell_type": "code",
   "execution_count": 59,
   "metadata": {
    "collapsed": false,
    "deletable": true,
    "editable": true
   },
   "outputs": [
    {
     "data": {
      "text/plain": [
       "(3100, 9938)"
      ]
     },
     "execution_count": 59,
     "metadata": {},
     "output_type": "execute_result"
    }
   ],
   "source": [
    "X.shape"
   ]
  },
  {
   "cell_type": "code",
   "execution_count": 51,
   "metadata": {
    "collapsed": false,
    "deletable": true,
    "editable": true
   },
   "outputs": [],
   "source": [
    "FileUtility.save_sparse_csr('../../datasets/processed_data/org/features/npe_org_restrictedmer.npz', X)\n",
    "FileUtility.save_list('../../datasets/processed_data/org/features/npe_org_label_restrictedkmer.txt',labels_orgs)\n",
    "\n"
   ]
  },
  {
   "cell_type": "code",
   "execution_count": null,
   "metadata": {
    "collapsed": true,
    "deletable": true,
    "editable": true
   },
   "outputs": [],
   "source": []
  }
 ],
 "metadata": {
  "kernelspec": {
   "display_name": "Python 3",
   "language": "python",
   "name": "python3"
  },
  "language_info": {
   "codemirror_mode": {
    "name": "ipython",
    "version": 3
   },
   "file_extension": ".py",
   "mimetype": "text/x-python",
   "name": "python",
   "nbconvert_exporter": "python",
   "pygments_lexer": "ipython3",
   "version": "3.4.6"
  }
 },
 "nbformat": 4,
 "nbformat_minor": 2
}
