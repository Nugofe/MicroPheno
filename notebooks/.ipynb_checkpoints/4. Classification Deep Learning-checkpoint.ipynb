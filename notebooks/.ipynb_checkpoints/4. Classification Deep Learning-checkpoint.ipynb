{
 "cells": [
  {
   "cell_type": "code",
   "execution_count": 1,
   "metadata": {},
   "outputs": [
    {
     "name": "stderr",
     "output_type": "stream",
     "text": [
      "Using TensorFlow backend.\n",
      "/home/nuria/.local/share/virtualenvs/MicroPheno-master-olTIaRDi/lib/python3.5/site-packages/tensorflow/python/framework/dtypes.py:463: FutureWarning: Passing (type, 1) or '1type' as a synonym of type is deprecated; in a future version of numpy, it will be understood as (type, (1,)) / '(1,)type'.\n",
      "  _np_qint8 = np.dtype([(\"qint8\", np.int8, 1)])\n",
      "/home/nuria/.local/share/virtualenvs/MicroPheno-master-olTIaRDi/lib/python3.5/site-packages/tensorflow/python/framework/dtypes.py:464: FutureWarning: Passing (type, 1) or '1type' as a synonym of type is deprecated; in a future version of numpy, it will be understood as (type, (1,)) / '(1,)type'.\n",
      "  _np_quint8 = np.dtype([(\"quint8\", np.uint8, 1)])\n",
      "/home/nuria/.local/share/virtualenvs/MicroPheno-master-olTIaRDi/lib/python3.5/site-packages/tensorflow/python/framework/dtypes.py:465: FutureWarning: Passing (type, 1) or '1type' as a synonym of type is deprecated; in a future version of numpy, it will be understood as (type, (1,)) / '(1,)type'.\n",
      "  _np_qint16 = np.dtype([(\"qint16\", np.int16, 1)])\n",
      "/home/nuria/.local/share/virtualenvs/MicroPheno-master-olTIaRDi/lib/python3.5/site-packages/tensorflow/python/framework/dtypes.py:466: FutureWarning: Passing (type, 1) or '1type' as a synonym of type is deprecated; in a future version of numpy, it will be understood as (type, (1,)) / '(1,)type'.\n",
      "  _np_quint16 = np.dtype([(\"quint16\", np.uint16, 1)])\n",
      "/home/nuria/.local/share/virtualenvs/MicroPheno-master-olTIaRDi/lib/python3.5/site-packages/tensorflow/python/framework/dtypes.py:467: FutureWarning: Passing (type, 1) or '1type' as a synonym of type is deprecated; in a future version of numpy, it will be understood as (type, (1,)) / '(1,)type'.\n",
      "  _np_qint32 = np.dtype([(\"qint32\", np.int32, 1)])\n"
     ]
    }
   ],
   "source": [
    "import sys\n",
    "#import os\n",
    "#import numpy\n",
    "#import pandas as pd\n",
    "#import tensorflow as tf\n",
    "#import tensorflow.keras as keras\n",
    "sys.path.append('../')\n",
    "from classifier.DNN import DNNMutliclass16S\n",
    "from utility.file_utility import FileUtility"
   ]
  },
  {
   "cell_type": "markdown",
   "metadata": {},
   "source": [
    "# Example of using deep learning for Crohns disease"
   ]
  },
  {
   "cell_type": "code",
   "execution_count": 2,
   "metadata": {},
   "outputs": [],
   "source": [
    "# k-mer data\n",
    "X=FileUtility.load_sparse_csr('../../crohns_disease/datasets/dataset_6-mers_rate_complete1359_seq_5000.npz').toarray()\n",
    "# labels\n",
    "Y=FileUtility.load_list('../../crohns_disease/datasets/labels_disease_complete1359.txt')"
   ]
  },
  {
   "cell_type": "code",
   "execution_count": 5,
   "metadata": {},
   "outputs": [
    {
     "name": "stdout",
     "output_type": "stream",
     "text": [
      "\n",
      " Evaluation on a new fold is now get started ..\n",
      "WARNING:tensorflow:From ../classifier/DNN.py:144: Sequential.predict_classes (from tensorflow.python.keras.engine.sequential) is deprecated and will be removed after 2021-01-01.\n",
      "Instructions for updating:\n",
      "Please use instead:* `np.argmax(model.predict(x), axis=-1)`,   if your model does multi-class classification   (e.g. if it uses a `softmax` last-layer activation).* `(model.predict(x) > 0.5).astype(\"int32\")`,   if your model does binary classification   (e.g. if it uses a `sigmoid` last-layer activation).\n",
      "\n",
      " Evaluation on a new fold is now get started ..\n"
     ]
    },
    {
     "name": "stderr",
     "output_type": "stream",
     "text": [
      "/home/lara/.local/share/virtualenvs/MicroPheno-master-D_fohRd5/lib/python3.5/site-packages/sklearn/metrics/_classification.py:1272: UndefinedMetricWarning: Precision is ill-defined and being set to 0.0 in labels with no predicted samples. Use `zero_division` parameter to control this behavior.\n",
      "  _warn_prf(average, modifier, msg_start, len(result))\n"
     ]
    },
    {
     "name": "stdout",
     "output_type": "stream",
     "text": [
      "\n",
      " Evaluation on a new fold is now get started ..\n",
      "\n",
      " Evaluation on a new fold is now get started ..\n",
      "\n",
      " Evaluation on a new fold is now get started ..\n",
      "\n",
      " Evaluation on a new fold is now get started ..\n",
      "\n",
      " Evaluation on a new fold is now get started ..\n",
      "\n",
      " Evaluation on a new fold is now get started ..\n",
      "\n",
      " Evaluation on a new fold is now get started ..\n",
      "\n",
      " Evaluation on a new fold is now get started ..\n",
      "0.67 $\\pm$ 0.06 & 0.67 $\\pm$ 0.06 & 0.67 $\\pm$ 0.06 & 0.66 $\\pm$ 0.13 & 0.67 $\\pm$ 0.07 & 0.65 $\\pm$ 0.11\n"
     ]
    }
   ],
   "source": [
    "\n",
    "# creating the deep NN architecture\n",
    "# We use the Multi-Layer-Perceptrons (MLP) Neural Network architecture \n",
    "# with several hidden layers using Rectified Linear Unit (ReLU) as the nonlinear activation function.\n",
    "# We use softmax activation function at the last layer to produce the probability vector that can be \n",
    "# regarded as representing posterior probabilities~\\cite{Goodfellow-et-al-2016}. To avoid overfitting\n",
    "# we perform early stopping and also use dropout  (weights less than one are dropouts in model_arch \n",
    "# and the rest the sizes of the hidden layers)\n",
    "\n",
    "DNN=DNNMutliclass16S(X,Y,model_arch=[1024,0.2,512,0.2,256,0.1,128,8])\n",
    "DNN.cross_validation('../../crohns_disease/results/DNNclassifier/', gpu_dev='1', n_fold=10, epochs=100, batch_size=1000, model_strct='mlp')\n"
   ]
  },
  {
   "cell_type": "markdown",
   "metadata": {},
   "source": [
    "# Error on train and test sets"
   ]
  },
  {
   "cell_type": "code",
   "execution_count": 7,
   "metadata": {},
   "outputs": [
    {
     "name": "stdout",
     "output_type": "stream",
     "text": [
      "Populating the interactive namespace from numpy and matplotlib\n"
     ]
    },
    {
     "data": {
      "text/plain": [
       "Text(0.5, 1.0, 'Loss with respect to the number of epochs for train and test sets')"
      ]
     },
     "execution_count": 7,
     "metadata": {},
     "output_type": "execute_result"
    },
    {
     "data": {
      "image/png": "[encoded data removed]",
      "text/plain": [
       "<Figure size 432x288 with 1 Axes>"
      ]
     },
     "metadata": {
      "needs_background": "light"
     },
     "output_type": "display_data"
    }
   ],
   "source": [
    "import matplotlib.pyplot as plt\n",
    "%pylab inline\n",
    "%matplotlib inline \n",
    "from utility.visualization_utility import create_mat_plot\n",
    "\n",
    "[latex_line, p_micro, r_micro, f1_micro, p_macro, r_macro, f1_macro, history]=FileUtility.load_obj('../../crohns_disease/results/DNNclassifier/results_mlp_1024-0.2-512-0.2-256-0.1-128-8_0.65.pickle')\n",
    "(loss_values, val_loss_values, epochs)=history\n",
    "matplotlib.rcParams['mathtext.fontset'] = 'stix'\n",
    "matplotlib.rcParams['font.family'] = 'STIXGeneral'\n",
    "matplotlib.rcParams['mathtext.fontset'] = 'custom'\n",
    "matplotlib.rcParams['mathtext.rm'] = 'Bitstream Vera Sans'\n",
    "matplotlib.rcParams['mathtext.it'] = 'Bitstream Vera Sans:italic'\n",
    "matplotlib.rcParams['mathtext.bf'] = 'Bitstream Vera Sans:bold'\n",
    "matplotlib.rcParams[\"axes.edgecolor\"] = \"black\"\n",
    "matplotlib.rcParams[\"axes.linewidth\"] = 0.6\n",
    "plt.rc('text', usetex=True)\n",
    "plt.plot(epochs, loss_values, 'ro', label='Loss for train set')\n",
    "plt.plot(epochs, val_loss_values, 'b', label='Loss for test set')\n",
    "plt.xlabel('Epochs')\n",
    "plt.ylabel('Loss')\n",
    "plt.legend(loc=1, prop={'size': 8},ncol=1, edgecolor='black', facecolor='white', frameon=True)\n",
    "plt.title('Loss with respect to the number of epochs for train and test sets')"
   ]
  },
  {
   "cell_type": "markdown",
   "metadata": {},
   "source": [
    "# Producing the activation function of the last layer"
   ]
  },
  {
   "cell_type": "code",
   "execution_count": 8,
   "metadata": {},
   "outputs": [],
   "source": [
    "X_new=DNNMutliclass16S.make_activation_function('../../crohns_disease/results/DNNclassifier/weights_layers_mlp_1024-0.2-512-0.2-256-0.1-128-8_0.65.pickle',X)"
   ]
  },
  {
   "cell_type": "code",
   "execution_count": 9,
   "metadata": {},
   "outputs": [
    {
     "data": {
      "text/plain": [
       "(1359, 8)"
      ]
     },
     "execution_count": 9,
     "metadata": {},
     "output_type": "execute_result"
    }
   ],
   "source": [
    "X_new.shape"
   ]
  },
  {
   "cell_type": "markdown",
   "metadata": {
    "collapsed": true
   },
   "source": [
    "## Oral bacteria"
   ]
  },
  {
   "cell_type": "code",
   "execution_count": null,
   "metadata": {},
   "outputs": [],
   "source": [
    "# Code for classification of oral bacteria data"
   ]
  }
 ],
 "metadata": {
  "kernelspec": {
   "display_name": "Python 3 (ipykernel)",
   "language": "python",
   "name": "python3"
  },
  "language_info": {
   "codemirror_mode": {
    "name": "ipython",
    "version": 3
   },
   "file_extension": ".py",
   "mimetype": "text/x-python",
   "name": "python",
   "nbconvert_exporter": "python",
   "pygments_lexer": "ipython3",
   "version": "3.5.10"
  }
 },
 "nbformat": 4,
 "nbformat_minor": 2
}
