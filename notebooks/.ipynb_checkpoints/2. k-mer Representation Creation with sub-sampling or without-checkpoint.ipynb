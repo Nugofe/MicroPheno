{
 "cells": [
  {
   "cell_type": "markdown",
   "metadata": {},
   "source": [
    "# Creating k-mer representations"
   ]
  },
  {
   "cell_type": "code",
   "execution_count": 1,
   "metadata": {},
   "outputs": [],
   "source": [
    "import sys\n",
    "sys.path.append('../')\n",
    "from make_representations.representation_maker import Metagenomic16SRepresentation, FastaRepresentations\n",
    "from utility.file_utility import FileUtility\n"
   ]
  },
  {
   "cell_type": "markdown",
   "metadata": {},
   "source": [
    "## Example of Crohn's disease - parallel representation creation -- with sub-sampling"
   ]
  },
  {
   "cell_type": "code",
   "execution_count": 10,
   "metadata": {},
   "outputs": [],
   "source": [
    "# LER ARQUIVOS FASTAQ\n",
    "# fasta_files: the fastaq files\n",
    "# mapping: the order in which they've been read/iterated\n",
    "\n",
    "fasta_files, mapping = FileUtility.read_fasta_directory('../../crohns_disease/sra_download/samples_fastq','fastq')"
   ]
  },
  {
   "cell_type": "code",
   "execution_count": null,
   "metadata": {},
   "outputs": [
    {
     "name": "stdout",
     "output_type": "stream",
     "text": [
      "3 -mers with sampling size  20\n"
     ]
    },
    {
     "name": "stderr",
     "output_type": "stream",
     "text": [
      "  0%|          | 2/1359 [00:03<34:43,  1.54s/it]  "
     ]
    }
   ],
   "source": [
    "# ENTRENAMENTO COS MELLORES TAMAÑOS DE K-MER E OS SEUS CORRESPONDENTES TAMAÑOS DE MOSTRA (SEGÚN OS RESULTADOS DE BOOTSTRAPPING)\n",
    "# dictionary of k-mers and their sampling values \n",
    "# 6:[100,1000,2000,5000,10000,-1]  :  k-mer:[sampling values]      (-1 means using all sequences)\n",
    "\n",
    "sampling_dict={3:[20],4:[100],5:[500],6:[100,1000,2000,5000,10000,-1],7:[5000],8:[8000]}\n",
    "\n",
    "# number of cores\n",
    "nump_p=20\n",
    "\n",
    "# Para cada arquivo fastaq, creamos unha representación por cada posible combinación de tamaño de k-mer e tamaño de mostra\n",
    "for k in sampling_dict.keys():  # for each k-mer\n",
    "    for N in sampling_dict[k]:  # select a sampling size N\n",
    "        print(k,'-mers with sampling size ',N)\n",
    "        \n",
    "        # create a k-mer representation with sampling size N for each fastaq file\n",
    "        RS=Metagenomic16SRepresentation(fasta_files, mapping, N, nump_p)\n",
    "        # path to save the generated files\n",
    "        RS.generate_kmers_all(k, save='../../crohns_disease/datasets/dataset_'+str(k)+'-mers_rate_complete1359_seq_'+str(N))\n"
   ]
  },
  {
   "cell_type": "markdown",
   "metadata": {},
   "source": [
    "## Example of Ecological/Organismal Environments -- without sub-sampling"
   ]
  },
  {
   "cell_type": "markdown",
   "metadata": {},
   "source": [
    "## ECO_18K"
   ]
  },
  {
   "cell_type": "code",
   "execution_count": 29,
   "metadata": {
    "collapsed": true
   },
   "outputs": [],
   "source": [
    "#map_type=FileUtility.load_obj('../../datasets/processed_data/eco/map_label_type.pickle')\n",
    "#eco=['soil', 'marine','bioreactor','freshwater','groundwater','sediment','bioreactor_sludge','food_fermentation','compost','rhizosphere','food','hydrocarbon','marine_sediment','activated_sludge','aquatic','hot_springs','freshwater_sediment','ant_fungus_garden']\n",
    "#orgs=['human_gut','bovine_gut','mouse_gut','chicken_gut','termite_gut']\n",
    "#corpus_eco_18K, labels_eco_18K=FastaRep.get_samples(eco,1000)\n",
    "#corpus_eco_180K, labels_eco_180K=FastaRep.get_samples(eco,10000)\n",
    "#corpus_5guts, labels_5guts=FastaRep.get_samples(orgs,620)\n",
    "#FileUtility.create_fasta_file('../../datasets_downloaded/ECO/ECO_18K.fasta', corpus_eco_18K, labels_eco_18K)\n",
    "#FileUtility.create_fasta_file('../../datasets_downloaded/ECO/ECO_180K.fasta', corpus_eco_180K, labels_eco_180K)\n",
    "#FileUtility.create_fasta_file('../../datasets_downloaded/5GUTs/fiveGuts.fasta', corpus_5guts, labels_5guts)\n",
    "FastaRep=FastaRepresentations('../../datasets_downloaded/ECO/ECO_18K.fasta',label_modifying_func=lambda x:x.split('.')[1] )\n",
    "# FastaRep.labels ==> labels\n",
    "# FastaRep.corpus ==> sequence corpus"
   ]
  },
  {
   "cell_type": "code",
   "execution_count": 21,
   "metadata": {},
   "outputs": [
    {
     "name": "stdout",
     "output_type": "stream",
     "text": [
      "3 -mer creation\n",
      "4 -mer creation\n",
      "5 -mer creation\n",
      "6 -mer creation\n",
      "7 -mer creation\n",
      "8 -mer creation\n"
     ]
    }
   ],
   "source": [
    "for k in [3,4,5,6,7,8]:\n",
    "    print (k,'-mer creation')\n",
    "    vec_pres=FastaRep.get_vector_rep(FastaRep.corpus, k,restricted=True)\n",
    "    FileUtility.save_sparse_csr('../../datasets_downloaded/ECO/ECO_18K_k-mer_representations_labels/'+str(k)+'-mer'+'_eco18k_restrictedmer.npz', vec_pres)\n",
    "    FileUtility.save_list('../../datasets_downloaded/ECO/ECO_18K_k-mer_representations_labels/ECO_18K_labels.txt',FastaRep.labels)"
   ]
  },
  {
   "cell_type": "markdown",
   "metadata": {},
   "source": [
    "## ECO_180K"
   ]
  },
  {
   "cell_type": "code",
   "execution_count": 22,
   "metadata": {
    "collapsed": true
   },
   "outputs": [],
   "source": [
    "\n",
    "FastaRep=FastaRepresentations('../../datasets_downloaded/ECO/ECO_180K.fasta',label_modifying_func=lambda x:x.split('.')[1] )\n",
    "# FastaRep.labels ==> labels\n",
    "# FastaRep.corpus ==> sequence corpus"
   ]
  },
  {
   "cell_type": "code",
   "execution_count": 23,
   "metadata": {},
   "outputs": [
    {
     "name": "stdout",
     "output_type": "stream",
     "text": [
      "3 -mer creation\n",
      "4 -mer creation\n",
      "5 -mer creation\n",
      "6 -mer creation\n",
      "7 -mer creation\n",
      "8 -mer creation\n"
     ]
    }
   ],
   "source": [
    "for k in [3,4,5,6,7,8]:\n",
    "    print (k,'-mer creation')\n",
    "    vec_pres=FastaRep.get_vector_rep(FastaRep.corpus, k,restricted=True)\n",
    "    FileUtility.save_sparse_csr('../../datasets_downloaded/ECO/ECO_180K_k-mer_representations_labels/'+str(k)+'-mer'+'_eco180k_restrictedmer.npz', vec_pres)\n",
    "    FileUtility.save_list('../../datasets_downloaded/ECO/ECO_180K_k-mer_representations_labels/ECO_180K_labels.txt',FastaRep.labels)"
   ]
  },
  {
   "cell_type": "markdown",
   "metadata": {},
   "source": [
    "## 5Guts"
   ]
  },
  {
   "cell_type": "code",
   "execution_count": null,
   "metadata": {},
   "outputs": [],
   "source": [
    "FastaRep=FastaRepresentations('../../datasets_downloaded/5GUTs/fiveGuts.fasta',label_modifying_func=lambda x:x.split('.')[1] )\n"
   ]
  },
  {
   "cell_type": "code",
   "execution_count": null,
   "metadata": {},
   "outputs": [],
   "source": [
    "for k in [3,4,5,6,7,8]:\n",
    "    print (k,'-mer creation')\n",
    "    vec_pres=FastaRep.get_vector_rep(FastaRep.corpus, k,restricted=True)\n",
    "    FileUtility.save_sparse_csr('../../datasets_downloaded/5GUTs/k-mer_representations_labels/'+str(k)+'-mer'+'_5Guts_restrictedmer.npz', vec_pres)\n",
    "    FileUtility.save_list('../../datasets_downloaded/5GUTs/k-mer_representations_labels/5Guts_labels.txt',FastaRep.labels)"
   ]
  },
  {
   "cell_type": "markdown",
   "metadata": {},
   "source": [
    "## Oral bacteria (example of how to do it wout subsampling)"
   ]
  },
  {
   "cell_type": "code",
   "execution_count": 2,
   "metadata": {},
   "outputs": [],
   "source": [
    "FastaRep=FastaRepresentations('../../oral_bacteria/oral_bacteria.fasta',label_modifying_func=lambda x:x.split('-')[1] )\n",
    "# FastaRep.labels ==> labels\n",
    "# FastaRep.corpus ==> sequence corpus"
   ]
  },
  {
   "cell_type": "code",
   "execution_count": 5,
   "metadata": {},
   "outputs": [
    {
     "name": "stdout",
     "output_type": "stream",
     "text": [
      "8 -mer creation\n"
     ]
    }
   ],
   "source": [
    "for k in [8]:\n",
    "    print (k,'-mer creation')\n",
    "    vec_pres=FastaRep.get_vector_rep(FastaRep.corpus, k,restricted=True)\n",
    "    FileUtility.save_sparse_csr('../../oral_bacteria/k-mer_representations_labels/'+str(k)+'-mer'+'_oral_bacteria_restrictedmer.npz', vec_pres)\n",
    "    FileUtility.save_list('../../oral_bacteria/k-mer_representations_labels/oral_bacteria_labels.txt',FastaRep.labels)"
   ]
  }
 ],
 "metadata": {
  "kernelspec": {
   "display_name": "Python 3 (ipykernel)",
   "language": "python",
   "name": "python3"
  },
  "language_info": {
   "codemirror_mode": {
    "name": "ipython",
    "version": 3
   },
   "file_extension": ".py",
   "mimetype": "text/x-python",
   "name": "python",
   "nbconvert_exporter": "python",
   "pygments_lexer": "ipython3",
   "version": "3.5.10"
  }
 },
 "nbformat": 4,
 "nbformat_minor": 2
}
