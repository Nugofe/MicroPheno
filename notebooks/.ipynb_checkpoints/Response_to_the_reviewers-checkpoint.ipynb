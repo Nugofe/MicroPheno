{
 "cells": [
  {
   "cell_type": "markdown",
   "metadata": {},
   "source": [
    "# Confusion matrix for different sampling sizes"
   ]
  },
  {
   "cell_type": "code",
   "execution_count": 20,
   "metadata": {
    "collapsed": false
   },
   "outputs": [
    {
     "name": "stdout",
     "output_type": "stream",
     "text": [
      "Populating the interactive namespace from numpy and matplotlib\n"
     ]
    }
   ],
   "source": [
    "import sys\n",
    "sys.path.append('../')\n",
    "from utility.file_utility import FileUtility\n",
    "import matplotlib.pyplot as plt\n",
    "%pylab inline\n",
    "%matplotlib inline \n",
    "from utility.visualization_utility import create_mat_plot\n"
   ]
  },
  {
   "cell_type": "code",
   "execution_count": 38,
   "metadata": {
    "collapsed": false
   },
   "outputs": [],
   "source": [
    "files=FileUtility.recursive_glob('../../datasets/results/body-sites/sample-size/','*.pickle')"
   ]
  },
  {
   "cell_type": "code",
   "execution_count": 39,
   "metadata": {
    "collapsed": false
   },
   "outputs": [],
   "source": [
    "res_dict=dict()\n",
    "for file in files:\n",
    "    [label_set, conf, best_score_, best_estimator_, cv_results_, best_params_]=FileUtility.load_obj(file)\n",
    "    res_dict['All' if (file.split('/')[-1].split('.')[0].split('_')[2]) =='-1' else (file.split('/')[-1].split('.')[0].split('_')[2])]=conf"
   ]
  },
  {
   "cell_type": "code",
   "execution_count": null,
   "metadata": {
    "collapsed": false
   },
   "outputs": [],
   "source": [
    "sampling_sizes=list(res_dict.keys())\n",
    "sampling_sizes.sort()\n",
    "for i,sampling in enumerate(sampling_sizes):\n",
    "    create_mat_plot(res_dict[sampling], ['saliva (o)', 'mid-vagina (u)','a-nares (n)', 'stool (g)', 'p-fornix (u)'], '', 'body-site_confusion'+'_samplingsize'+sampling, 'Predicted labels' ,'Actual labels', cmap='Purples', filetype='pdf',font_s=8)\n",
    "    "
   ]
  },
  {
   "cell_type": "markdown",
   "metadata": {
    "deletable": true,
    "editable": true
   },
   "source": [
    "# Run-time analysis"
   ]
  },
  {
   "cell_type": "code",
   "execution_count": 49,
   "metadata": {
    "collapsed": true
   },
   "outputs": [],
   "source": [
    "from make_representations.representation_maker import Metagenomic16SRepresentation, FastaRepresentations\n",
    "from utility.file_utility import FileUtility"
   ]
  },
  {
   "cell_type": "markdown",
   "metadata": {},
   "source": [
    "### Crohn's"
   ]
  },
  {
   "cell_type": "code",
   "execution_count": 50,
   "metadata": {
    "collapsed": true
   },
   "outputs": [],
   "source": [
    "fasta_files, mapping = FileUtility.read_fasta_directory('/mounts/data/proj/asgari/dissertation/datasets/deepbio/microbiome/crohn/','fastq')"
   ]
  },
  {
   "cell_type": "code",
   "execution_count": 51,
   "metadata": {
    "collapsed": false
   },
   "outputs": [
    {
     "name": "stdout",
     "output_type": "stream",
     "text": [
      "6 -mers with sampling size  5000\n"
     ]
    },
    {
     "name": "stderr",
     "output_type": "stream",
     "text": [
      "100%|██████████| 1359/1359 [06:19<00:00,  1.48it/s]\n"
     ]
    },
    {
     "name": "stdout",
     "output_type": "stream",
     "text": [
      "381.0201939190156 sec\n"
     ]
    }
   ],
   "source": [
    "start = timeit.default_timer()\n",
    "\n",
    "sampling_dict={6:[5000]}\n",
    "# number of cores\n",
    "nump_p=5\n",
    "for k in sampling_dict.keys():\n",
    "    for N in sampling_dict[k]:\n",
    "        print(k,'-mers with sampling size ',N)\n",
    "        RS=Metagenomic16SRepresentation(fasta_files, mapping, N, nump_p)\n",
    "        # path to save the generated files\n",
    "        RS.generate_kmers_all(k, save='../../MicroPheno_datasets/crohns-disease/dataset_'+str(k)+'-mers_rate_complete1359_seq_'+str(N))\n",
    "stop = timeit.default_timer()\n",
    "print (stop - start,'sec') "
   ]
  },
  {
   "cell_type": "markdown",
   "metadata": {},
   "source": [
    "### Body-site"
   ]
  },
  {
   "cell_type": "code",
   "execution_count": 60,
   "metadata": {
    "collapsed": true
   },
   "outputs": [],
   "source": [
    "fasta_files, mapping = FileUtility.read_fasta_directory('../../../datasets/deepbio/microbiome/hmb_data/','fsa')\n"
   ]
  },
  {
   "cell_type": "code",
   "execution_count": null,
   "metadata": {
    "collapsed": false
   },
   "outputs": [],
   "source": [
    "start = timeit.default_timer()\n",
    "sampling_dict={6:[5000]}\n",
    "# number of cores\n",
    "nump_p=5\n",
    "for k in sampling_dict.keys():\n",
    "    for N in sampling_dict[k]:\n",
    "        print(k,'-mers with sampling size ',N)\n",
    "        RS=Metagenomic16SRepresentation(fasta_files, mapping, N, nump_p)\n",
    "        # path to save the generated files\n",
    "        RS.generate_kmers_all(k, save='bodysite_'+str(k)+'-mers_seq_'+str(N))\n",
    "stop = timeit.default_timer()\n",
    "print (stop - start,'sec') "
   ]
  }
 ],
 "metadata": {
  "kernelspec": {
   "display_name": "Python 3",
   "language": "python",
   "name": "python3"
  },
  "language_info": {
   "codemirror_mode": {
    "name": "ipython",
    "version": 3
   },
   "file_extension": ".py",
   "mimetype": "text/x-python",
   "name": "python",
   "nbconvert_exporter": "python",
   "pygments_lexer": "ipython3",
   "version": "3.4.6"
  }
 },
 "nbformat": 4,
 "nbformat_minor": 2
}
